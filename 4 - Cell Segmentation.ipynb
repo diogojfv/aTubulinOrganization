{
 "cells": [
  {
   "cell_type": "markdown",
   "id": "7be70596",
   "metadata": {},
   "source": [
    "# <center><font color='red'>4 - CELL SEGMENTATION</font></center>"
   ]
  },
  {
   "cell_type": "markdown",
   "id": "ef583002",
   "metadata": {},
   "source": [
    "### <center><font color='orange'>AUTHOR: Diogo Vieira</font></center>"
   ]
  },
  {
   "cell_type": "markdown",
   "id": "7a31e524",
   "metadata": {},
   "source": [
    "-------------------------------------------"
   ]
  },
  {
   "cell_type": "markdown",
   "id": "db78e514",
   "metadata": {},
   "source": [
    "### <center><font color='grey'>Imports</font></center>"
   ]
  },
  {
   "cell_type": "markdown",
   "id": "91e804db",
   "metadata": {},
   "source": [
    "**!** **CHANGE KERNEL**"
   ]
  },
  {
   "cell_type": "code",
   "execution_count": 2,
   "id": "89193dc8",
   "metadata": {
    "hide_input": true
   },
   "outputs": [
    {
     "name": "stdout",
     "output_type": "stream",
     "text": [
      "📚 All libraries successfully imported **(for ROI selection)** 📚\n"
     ]
    }
   ],
   "source": [
    "from framework.Importing import *\n",
    "import os\n",
    "import numpy as np\n",
    "import pandas as pd\n",
    "import matplotlib.pyplot as plt\n",
    "from roipoly import RoiPoly\n",
    "import pickle\n",
    "import cv2\n",
    "#from framework.manual_segmentation import roi_selector\n",
    "\n",
    "print('📚 All libraries successfully imported **(for ROI selection)** 📚')"
   ]
  },
  {
   "cell_type": "markdown",
   "id": "e55cafaa",
   "metadata": {},
   "source": [
    "### <center><font color='grey'>Directories</font></center>"
   ]
  },
  {
   "cell_type": "code",
   "execution_count": 2,
   "id": "87f98c02",
   "metadata": {},
   "outputs": [],
   "source": [
    "def roi_selector(data,img_id,ROIsDF):\n",
    "    global ROI\n",
    "    import copy\n",
    "    print('🔎')\n",
    "    \n",
    "    if type(ROIsDF) != pd.core.frame.DataFrame:\n",
    "        ROIsDF    = pd.DataFrame(columns = ['Name','Index','Label','ROImask'])\n",
    "       \n",
    "    ROIsDF_ = copy.deepcopy(ROIsDF)\n",
    "    \n",
    "    # Get image\n",
    "    if '3D' in data.keys():\n",
    "        flag = '3D'\n",
    "        mult = np.stack([1.8*data['3D']['Image'][12]/np.max(data['3D']['Image'][12]),1.8*data['3D']['Image'][11]/np.max(data['3D']['Image'][11]),1*data['3D']['Image'][10]/np.max(data['3D']['Image'][10])],axis=2)\n",
    "    \n",
    "    if 'CYTO_DECONV' in data.keys():\n",
    "        flag = 'RGB'\n",
    "        img        = data['RGB']['Image'][img_id]\n",
    "        tmp        = copy.deepcopy(img)\n",
    "        tmp[:,:,0] = 0\n",
    "        grey       = cv2.cvtColor(tmp,cv2.COLOR_RGB2GRAY)\n",
    "\n",
    "        #mult = np.stack([1.3*(grey / np.max(grey)),1.3*sk*(grey / np.max(grey)), np.zeros_like(sk)],axis=2)\n",
    "        #mult = np.stack([0.9*(grey / np.max(grey)),sk*(grey / np.max(grey)), 0.5 * (OriginalDF['Image'][img_id][:,:,0] / np.max(OriginalDF['Image'][img_id][:,:,0]))],axis=2)\n",
    "        #mult = np.stack([1.5*(grey / np.max(grey)),sk, 0.2 * (data['RGB']['Image'][img_id][:,:,0] / np.max(data['RGB']['Image'][img_id][:,:,0]))],axis=2)\n",
    "        mult = grey\n",
    "\n",
    "        \n",
    "        \n",
    "    \n",
    "    while 1:\n",
    "#         try:\n",
    "        plt.close('all')\n",
    "\n",
    "        # Select ROI QT\n",
    "        #%matplotlib qt\n",
    "        fig,ax = plt.subplots(figsize=(30,30))\n",
    "        plt.imshow(mult)\n",
    "        plt.axis('off')\n",
    "        # Plot Contours\n",
    "        #plot_nuclei_contours(CentroidsDF=Centroids,imgIndex=img_id,ax=ax)\n",
    "        # Define ROI\n",
    "\n",
    "        ROI = RoiPoly(color='r')\n",
    "        #ROI.display_roi()\n",
    "        #global mask,roi_coordinates\n",
    "        #roi_coordinates = ROI.get_roi_coordinates()\n",
    "        mask = ROI.get_mask(img)\n",
    "\n",
    "        # Save ROI\n",
    "        new = pd.DataFrame(data = {'Name': [data[flag]['Name'][img_id]],'Index': [img_id], 'Label': [data[flag]['Label'][img_id]], 'ROImask': [mask]})\n",
    "        ROIsDF_ = pd.concat([ROIsDF_, new], axis=0,ignore_index=True)\n",
    "\n",
    "\n",
    "        plt.show()\n",
    "#         except Exception as e:\n",
    "#             print('Window closed')\n",
    "#             print(e)\n",
    "#             return ROIsDF_"
   ]
  },
  {
   "cell_type": "code",
   "execution_count": 3,
   "id": "1cc0c90a",
   "metadata": {},
   "outputs": [
    {
     "name": "stdout",
     "output_type": "stream",
     "text": [
      ">>> [RGB] added.\n",
      ">>> [CYTO_DECONV] added.\n",
      ">>> [NUCL_DECONV] added.\n"
     ]
    }
   ],
   "source": [
    "### DATASET #1 (2D)\n",
    "folder    = os.path.dirname(os.getcwd()) + \"\\\\Datasets\\\\Set 1-a-tubulin_Sofia\"\n",
    "options   = [\"RGB\",\"CYTO_DECONV\",\"NUCL_DECONV\"]\n",
    "\n",
    "### DATASET #2 (3D)\n",
    "#folder    = os.path.dirname(os.getcwd()) + \"\\\\Datasets\\\\Set 3D\"\n",
    "#options   = [\"3D\"]\n",
    "\n",
    "### DATASET #3 (Soraia)\n",
    "#folder    = os.path.dirname(os.getcwd()) + \"\\\\Datasets\\\\Soraia\"\n",
    "#options   = [\"3D\"]\n",
    "\n",
    "### DATASET #4 (Inês)\n",
    "# folder    = os.path.dirname(os.getcwd()) + \"\\\\Datasets\\\\Ines\"\n",
    "#options     = []\n",
    "\n",
    "\n",
    "data = init_import(folder,options,label_image)\n",
    "#data['NUCL_PRE'] = pd.read_pickle(folder + \"\\\\NUCL_PRE\\\\NUCL_PRE.pkl\") # pd.read_pickle(os.getcwd() + \"\\\\NUCL_PRE_2D_StarDist.pkl\") #\n",
    "#data['CYTO_PRE'] = pd.read_pickle(folder + \"\\\\CYTO_PRE\\\\CYTO_PRE.pkl\") "
   ]
  },
  {
   "cell_type": "code",
   "execution_count": 4,
   "id": "0a436450",
   "metadata": {},
   "outputs": [
    {
     "name": "stdout",
     "output_type": "stream",
     "text": [
      "🔎\n"
     ]
    },
    {
     "ename": "ValueError",
     "evalue": "too many values to unpack (expected 2)",
     "output_type": "error",
     "traceback": [
      "\u001b[1;31m---------------------------------------------------------------------------\u001b[0m",
      "\u001b[1;31mValueError\u001b[0m                                Traceback (most recent call last)",
      "\u001b[1;32m<ipython-input-4-ecfc3d64601b>\u001b[0m in \u001b[0;36m<module>\u001b[1;34m\u001b[0m\n\u001b[0;32m      1\u001b[0m \u001b[0mget_ipython\u001b[0m\u001b[1;33m(\u001b[0m\u001b[1;33m)\u001b[0m\u001b[1;33m.\u001b[0m\u001b[0mrun_line_magic\u001b[0m\u001b[1;33m(\u001b[0m\u001b[1;34m'matplotlib'\u001b[0m\u001b[1;33m,\u001b[0m \u001b[1;34m'qt'\u001b[0m\u001b[1;33m)\u001b[0m\u001b[1;33m\u001b[0m\u001b[1;33m\u001b[0m\u001b[0m\n\u001b[1;32m----> 2\u001b[1;33m \u001b[0mROIs2\u001b[0m \u001b[1;33m=\u001b[0m \u001b[0mroi_selector\u001b[0m\u001b[1;33m(\u001b[0m\u001b[0mdata\u001b[0m\u001b[1;33m,\u001b[0m\u001b[1;36m11\u001b[0m\u001b[1;33m,\u001b[0m\u001b[1;32mNone\u001b[0m\u001b[1;33m)\u001b[0m\u001b[1;33m\u001b[0m\u001b[1;33m\u001b[0m\u001b[0m\n\u001b[0m",
      "\u001b[1;32m<ipython-input-2-0b69b9012159>\u001b[0m in \u001b[0;36mroi_selector\u001b[1;34m(data, img_id, ROIsDF)\u001b[0m\n\u001b[0;32m     46\u001b[0m         \u001b[1;31m#global mask,roi_coordinates\u001b[0m\u001b[1;33m\u001b[0m\u001b[1;33m\u001b[0m\u001b[1;33m\u001b[0m\u001b[0m\n\u001b[0;32m     47\u001b[0m         \u001b[1;31m#roi_coordinates = ROI.get_roi_coordinates()\u001b[0m\u001b[1;33m\u001b[0m\u001b[1;33m\u001b[0m\u001b[1;33m\u001b[0m\u001b[0m\n\u001b[1;32m---> 48\u001b[1;33m         \u001b[0mmask\u001b[0m \u001b[1;33m=\u001b[0m \u001b[0mROI\u001b[0m\u001b[1;33m.\u001b[0m\u001b[0mget_mask\u001b[0m\u001b[1;33m(\u001b[0m\u001b[0mimg\u001b[0m\u001b[1;33m)\u001b[0m\u001b[1;33m\u001b[0m\u001b[1;33m\u001b[0m\u001b[0m\n\u001b[0m\u001b[0;32m     49\u001b[0m \u001b[1;33m\u001b[0m\u001b[0m\n\u001b[0;32m     50\u001b[0m         \u001b[1;31m# Save ROI\u001b[0m\u001b[1;33m\u001b[0m\u001b[1;33m\u001b[0m\u001b[1;33m\u001b[0m\u001b[0m\n",
      "\u001b[1;32m~\\anaconda3\\envs\\ROIselection4\\lib\\site-packages\\roipoly\\roipoly.py\u001b[0m in \u001b[0;36mget_mask\u001b[1;34m(self, current_image)\u001b[0m\n\u001b[0;32m     81\u001b[0m \u001b[1;33m\u001b[0m\u001b[0m\n\u001b[0;32m     82\u001b[0m     \u001b[1;32mdef\u001b[0m \u001b[0mget_mask\u001b[0m\u001b[1;33m(\u001b[0m\u001b[0mself\u001b[0m\u001b[1;33m,\u001b[0m \u001b[0mcurrent_image\u001b[0m\u001b[1;33m)\u001b[0m\u001b[1;33m:\u001b[0m\u001b[1;33m\u001b[0m\u001b[1;33m\u001b[0m\u001b[0m\n\u001b[1;32m---> 83\u001b[1;33m         \u001b[0mny\u001b[0m\u001b[1;33m,\u001b[0m \u001b[0mnx\u001b[0m \u001b[1;33m=\u001b[0m \u001b[0mnp\u001b[0m\u001b[1;33m.\u001b[0m\u001b[0mshape\u001b[0m\u001b[1;33m(\u001b[0m\u001b[0mcurrent_image\u001b[0m\u001b[1;33m)\u001b[0m\u001b[1;33m\u001b[0m\u001b[1;33m\u001b[0m\u001b[0m\n\u001b[0m\u001b[0;32m     84\u001b[0m         poly_verts = ([(self.x[0], self.y[0])]\n\u001b[0;32m     85\u001b[0m                       + list(zip(reversed(self.x), reversed(self.y))))\n",
      "\u001b[1;31mValueError\u001b[0m: too many values to unpack (expected 2)"
     ]
    }
   ],
   "source": [
    "%matplotlib qt\n",
    "ROIs2 = roi_selector(data,11,None)"
   ]
  },
  {
   "cell_type": "code",
   "execution_count": 6,
   "id": "5d47b584",
   "metadata": {},
   "outputs": [
    {
     "name": "stdout",
     "output_type": "stream",
     "text": [
      "🔎\n"
     ]
    },
    {
     "name": "stderr",
     "output_type": "stream",
     "text": [
      "Clipping input data to the valid range for imshow with RGB data ([0..1] for floats or [0..255] for integers).\n",
      "Clipping input data to the valid range for imshow with RGB data ([0..1] for floats or [0..255] for integers).\n",
      "Clipping input data to the valid range for imshow with RGB data ([0..1] for floats or [0..255] for integers).\n"
     ]
    },
    {
     "name": "stdout",
     "output_type": "stream",
     "text": [
      "Window closed\n",
      "list index out of range\n"
     ]
    }
   ],
   "source": [
    "%matplotlib qt\n",
    "ROIs2 = roi_selector(data['3D'],12,None,options)"
   ]
  },
  {
   "cell_type": "code",
   "execution_count": 7,
   "id": "0c5befc2",
   "metadata": {},
   "outputs": [
    {
     "data": {
      "text/html": [
       "<div>\n",
       "<style scoped>\n",
       "    .dataframe tbody tr th:only-of-type {\n",
       "        vertical-align: middle;\n",
       "    }\n",
       "\n",
       "    .dataframe tbody tr th {\n",
       "        vertical-align: top;\n",
       "    }\n",
       "\n",
       "    .dataframe thead th {\n",
       "        text-align: right;\n",
       "    }\n",
       "</style>\n",
       "<table border=\"1\" class=\"dataframe\">\n",
       "  <thead>\n",
       "    <tr style=\"text-align: right;\">\n",
       "      <th></th>\n",
       "      <th>Name</th>\n",
       "      <th>Index</th>\n",
       "      <th>Label</th>\n",
       "      <th>ROImask</th>\n",
       "    </tr>\n",
       "  </thead>\n",
       "  <tbody>\n",
       "    <tr>\n",
       "      <th>0</th>\n",
       "      <td>MAX_12_AGSGatw_2245-0002_decon__ch02_PS.tif</td>\n",
       "      <td>12</td>\n",
       "      <td>2245</td>\n",
       "      <td>[[False, False, False, False, False, False, Fa...</td>\n",
       "    </tr>\n",
       "    <tr>\n",
       "      <th>1</th>\n",
       "      <td>MAX_12_AGSGatw_2245-0002_decon__ch02_PS.tif</td>\n",
       "      <td>12</td>\n",
       "      <td>2245</td>\n",
       "      <td>[[False, False, False, False, False, False, Fa...</td>\n",
       "    </tr>\n",
       "  </tbody>\n",
       "</table>\n",
       "</div>"
      ],
      "text/plain": [
       "                                          Name Index Label  \\\n",
       "0  MAX_12_AGSGatw_2245-0002_decon__ch02_PS.tif    12  2245   \n",
       "1  MAX_12_AGSGatw_2245-0002_decon__ch02_PS.tif    12  2245   \n",
       "\n",
       "                                             ROImask  \n",
       "0  [[False, False, False, False, False, False, Fa...  \n",
       "1  [[False, False, False, False, False, False, Fa...  "
      ]
     },
     "execution_count": 7,
     "metadata": {},
     "output_type": "execute_result"
    }
   ],
   "source": [
    "ROIs2"
   ]
  },
  {
   "cell_type": "code",
   "execution_count": null,
   "id": "6cc9e972",
   "metadata": {},
   "outputs": [],
   "source": []
  },
  {
   "cell_type": "code",
   "execution_count": null,
   "id": "22a0ee54",
   "metadata": {},
   "outputs": [],
   "source": [
    "%matplotlib inline\n",
    "img_id = 15\n",
    "df = ROIs[ROIs['Index']==img_id]\n",
    "\n",
    "i = 0\n",
    "for index,row in df.iterrows():\n",
    "    if i == 0:\n",
    "        auxx = row['ROImask']\n",
    "        i = 1\n",
    "    else:\n",
    "        auxx = auxx + row['ROImask']\n",
    "\n",
    "fig,ax = plt.subplots(figsize=(10,10))\n",
    "plt.imshow(auxx,cmap='gray')\n",
    "#plot_nuclei_contours(CentroidsDF=Centroids,imgIndex=img_id,ax=ax)\n",
    "plt.axis('off')\n",
    "# for index,row in Centroids[img_id].iterrows():\n",
    "#     if type(img_id) != int:\n",
    "#         plt.plot(row['Centroid'][1],row['Centroid'][0],'o',color='r',markersize=7,zorder=5)\n",
    "#     else:\n",
    "#         plt.plot(row['Centroid'][1],row['Centroid'][0],'o',color='b',markersize=7,zorder=5)\n",
    "#plt.savefig(\".//maski.png\",format='png',transparent=True,bbox_inches='tight',dpi=500)\n",
    "plt.show()\n",
    "        \n",
    "#for cell in df['ROImask']:\n",
    "#    analyze_cell([texture, dropdown_image.value],mask,[slider_thr.value,slider_linelen.value,slider_linegap.value],Centroids[dropdown_image.value],next(counter),DeconvDF,NucleiDeconvDF,True)"
   ]
  },
  {
   "cell_type": "markdown",
   "id": "a8996d4b",
   "metadata": {},
   "source": [
    "**DELETE LAST ROW**"
   ]
  },
  {
   "cell_type": "code",
   "execution_count": null,
   "id": "2606af18",
   "metadata": {},
   "outputs": [],
   "source": [
    "ROIs.drop(ROIs.tail(1).index,inplace=True)\n",
    "#OU \n",
    "#ROIs = ROIs[:-1]"
   ]
  },
  {
   "cell_type": "markdown",
   "id": "3c8ad4e3",
   "metadata": {},
   "source": [
    "MULTIROI EXPERIMENT"
   ]
  },
  {
   "cell_type": "code",
   "execution_count": null,
   "id": "f715d85a",
   "metadata": {},
   "outputs": [],
   "source": [
    "import logging\n",
    "import pandas as pd\n",
    "import numpy as np\n",
    "from matplotlib import pyplot as plt\n",
    "from roipoly import MultiRoi\n",
    "%matplotlib qt\n",
    "\n",
    "logging.basicConfig(format='%(levelname)s ''%(processName)-10s : %(asctime)s ''%(module)s.%(funcName)s:%(lineno)s %(message)s',level=logging.INFO)\n",
    "\n",
    "img_id = 12\n",
    "\n",
    "ROIsDF    = pd.DataFrame(columns = ['Name','Index','Label','ROImask'])\n",
    "if type(ROIsDF) != pd.core.frame.DataFrame:\n",
    "    ROIsDF    = pd.DataFrame(columns = ['Name','Index','Label','ROImask'])\n",
    "\n",
    "# Create image\n",
    "img = data['3D']['Image'][img_id]\n",
    "mult = np.stack([1.8*data['3D']['Image'][img_id]/np.max(data['3D']['Image'][img_id]),1.8*data['3D']['Image'][img_id-1]/np.max(data['3D']['Image'][img_id-1]),1*data['3D']['Image'][img_id-2]/np.max(data['3D']['Image'][img_id-2])],axis=2)\n",
    "\n",
    "# Show the image\n",
    "fig = plt.figure(figsize=(30,30))\n",
    "plt.imshow(mult, interpolation='nearest', cmap=\"Greys\")\n",
    "figManager = plt.get_current_fig_manager()\n",
    "figManager.window.showMaximized()\n",
    "\n",
    "# Draw multiple ROIs\n",
    "multiROI = MultiRoi(roi_names=['Cell ' + str(i) for i in range(1,30)])\n",
    "\n",
    "# Obtain ROIs\n",
    "roi_names = []\n",
    "masks = []\n",
    "for name, roi in multiROI.rois.items():\n",
    "    masks += [roi.get_mask(img)]\n",
    "    roi_names += [name]"
   ]
  },
  {
   "cell_type": "code",
   "execution_count": null,
   "id": "181181e8",
   "metadata": {},
   "outputs": [],
   "source": [
    "#ROIs.to_pickle(os.getcwd() + '\\\\ROIs_Original.pkl')   ???????\n",
    "\n",
    "print('Save 🥒')"
   ]
  }
 ],
 "metadata": {
  "kernelspec": {
   "display_name": "ROIselection4",
   "language": "python",
   "name": "roiselection4"
  },
  "language_info": {
   "codemirror_mode": {
    "name": "ipython",
    "version": 3
   },
   "file_extension": ".py",
   "mimetype": "text/x-python",
   "name": "python",
   "nbconvert_exporter": "python",
   "pygments_lexer": "ipython3",
   "version": "3.6.15"
  }
 },
 "nbformat": 4,
 "nbformat_minor": 5
}
