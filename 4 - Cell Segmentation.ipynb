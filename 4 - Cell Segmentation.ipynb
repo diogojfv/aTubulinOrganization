{
 "cells": [
  {
   "cell_type": "markdown",
   "id": "0bd4ad60",
   "metadata": {},
   "source": [
    "<div class=\"alert alert-block alert-danger\">\n",
    "    <b> Unraveling the cytoskeletal architecture of cancer cells: a novel computational approach to predict cell fate - CODE</b> \n",
    "    \n",
    " **4 - CELL SEGMENTATION**\n",
    "    \n",
    "**Author**: Diogo Fróis Vieira\n",
    "</div>"
   ]
  },
  {
   "cell_type": "markdown",
   "id": "f4582d95",
   "metadata": {},
   "source": [
    "<div class=\"alert alert-block alert-info\">\n",
    "    \n",
    " **IMPORTS**\n",
    "    \n",
    "</div>"
   ]
  },
  {
   "cell_type": "code",
   "execution_count": 1,
   "id": "89193dc8",
   "metadata": {
    "hide_input": true
   },
   "outputs": [
    {
     "name": "stdout",
     "output_type": "stream",
     "text": [
      "📚 All libraries successfully imported **(for ROI selection)** 📚\n"
     ]
    }
   ],
   "source": [
    "from framework.importing import *\n",
    "import os\n",
    "import numpy as np\n",
    "import pandas as pd\n",
    "import matplotlib.pyplot as plt\n",
    "import ipywidgets as widgets\n",
    "from ipywidgets import interact, interactive, fixed, interact_manual\n",
    "from IPython.display import display\n",
    "import pickle\n",
    "import cv2\n",
    "from framework.manual_segmentation import *\n",
    "\n",
    "print('📚 All libraries successfully imported **(for ROI selection)** 📚')"
   ]
  },
  {
   "cell_type": "markdown",
   "id": "5202258b",
   "metadata": {},
   "source": [
    "<div class=\"alert alert-block alert-info\">\n",
    "    \n",
    " **DIRECTORIES**\n",
    "    \n",
    "</div>"
   ]
  },
  {
   "cell_type": "code",
   "execution_count": 2,
   "id": "0caad5c8",
   "metadata": {
    "scrolled": true
   },
   "outputs": [
    {
     "name": "stderr",
     "output_type": "stream",
     "text": [
      "TiffPage 0: IndexError: tuple index out of range\n"
     ]
    },
    {
     "name": "stdout",
     "output_type": "stream",
     "text": [
      ">>> [RGB] added.\n",
      ">>> [CYTO] added.\n",
      ">>> [NUCL] added.\n"
     ]
    }
   ],
   "source": [
    "# Define dataset folder.\n",
    "folder      = os.path.dirname(os.getcwd()) + \"\\\\Datasets\\\\Set 1-a-tubulin_Sofia\"\n",
    "\n",
    "# Import images from CYTO, NUCL and RGB folders.\n",
    "options     = [\"CYTO\",\"NUCL\",\"RGB\"]\n",
    "\n",
    "# Function to automatically retrieve image labels and indexes.\n",
    "denominator = label_tubulin\n",
    "\n",
    "# Dictionary with keys \"CYTO\", \"NUCL\", \"RGB\".\n",
    "data = init_import(folder,options,denominator)"
   ]
  },
  {
   "cell_type": "markdown",
   "id": "142f1da8",
   "metadata": {},
   "source": [
    "<div class=\"alert alert-block alert-info\">\n",
    "    \n",
    " **SELECT IMAGE**\n",
    "    \n",
    "</div>"
   ]
  },
  {
   "cell_type": "code",
   "execution_count": 3,
   "id": "31645e0a",
   "metadata": {},
   "outputs": [
    {
     "data": {
      "application/vnd.jupyter.widget-view+json": {
       "model_id": "4123076e49a843748529319b3cdf6614",
       "version_major": 2,
       "version_minor": 0
      },
      "text/plain": [
       "Dropdown(description='Select Image:', options=('...', 11, 16, 18, 20, 30, 34, 36, 38, 40, 42, 44, 59, 63, 66, …"
      ]
     },
     "metadata": {},
     "output_type": "display_data"
    },
    {
     "name": "stdout",
     "output_type": "stream",
     "text": [
      "Image 9 (WT) selected.\n"
     ]
    }
   ],
   "source": [
    "def dropdown_image_eventhandler(change):\n",
    "    global idx\n",
    "    idx = dropdown_image.value\n",
    "    lab = data['CYTO']['Label'][dropdown_image.value]\n",
    "    print('Image ' + str(idx) + ' (' + str(lab) +') selected.')\n",
    "\n",
    "dropdown_image = widgets.Dropdown(description =  'Select Image:' , options = ['...'] + list(data['CYTO'].index))\n",
    "dropdown_image.observe(dropdown_image_eventhandler, names='value')\n",
    "display(dropdown_image)"
   ]
  },
  {
   "cell_type": "markdown",
   "id": "70ce2fb3",
   "metadata": {},
   "source": [
    "<div class=\"alert alert-block alert-info\">\n",
    "    \n",
    " **ROI SELECTION**\n",
    "    \n",
    "</div>"
   ]
  },
  {
   "cell_type": "code",
   "execution_count": 4,
   "id": "f1b0ff27",
   "metadata": {},
   "outputs": [
    {
     "name": "stdout",
     "output_type": "stream",
     "text": [
      "🔎\n",
      "Window closed\n",
      "list index out of range\n"
     ]
    }
   ],
   "source": [
    "%matplotlib qt\n",
    "ROIs2 = roi_selector(data,idx,'None')"
   ]
  },
  {
   "cell_type": "code",
   "execution_count": 5,
   "id": "daa2b9ae",
   "metadata": {
    "scrolled": true
   },
   "outputs": [
    {
     "data": {
      "text/html": [
       "<div>\n",
       "<style scoped>\n",
       "    .dataframe tbody tr th:only-of-type {\n",
       "        vertical-align: middle;\n",
       "    }\n",
       "\n",
       "    .dataframe tbody tr th {\n",
       "        vertical-align: top;\n",
       "    }\n",
       "\n",
       "    .dataframe thead th {\n",
       "        text-align: right;\n",
       "    }\n",
       "</style>\n",
       "<table border=\"1\" class=\"dataframe\">\n",
       "  <thead>\n",
       "    <tr style=\"text-align: right;\">\n",
       "      <th></th>\n",
       "      <th>Name</th>\n",
       "      <th>Index</th>\n",
       "      <th>Label</th>\n",
       "      <th>Image Size</th>\n",
       "      <th>ROImask</th>\n",
       "    </tr>\n",
       "  </thead>\n",
       "  <tbody>\n",
       "    <tr>\n",
       "      <th>0</th>\n",
       "      <td>MAX_9_6IF_CHO_L_w3z_decon_ch02_PS.tif</td>\n",
       "      <td>9</td>\n",
       "      <td>WT</td>\n",
       "      <td>(1040, 1388)</td>\n",
       "      <td>([277, 277, 277, 278, 278, 278, 278, 278, 278,...</td>\n",
       "    </tr>\n",
       "    <tr>\n",
       "      <th>1</th>\n",
       "      <td>MAX_9_6IF_CHO_L_w3z_decon_ch02_PS.tif</td>\n",
       "      <td>9</td>\n",
       "      <td>WT</td>\n",
       "      <td>(1040, 1388)</td>\n",
       "      <td>([678, 678, 678, 678, 678, 678, 678, 678, 678,...</td>\n",
       "    </tr>\n",
       "  </tbody>\n",
       "</table>\n",
       "</div>"
      ],
      "text/plain": [
       "                                    Name Index Label    Image Size  \\\n",
       "0  MAX_9_6IF_CHO_L_w3z_decon_ch02_PS.tif     9    WT  (1040, 1388)   \n",
       "1  MAX_9_6IF_CHO_L_w3z_decon_ch02_PS.tif     9    WT  (1040, 1388)   \n",
       "\n",
       "                                             ROImask  \n",
       "0  ([277, 277, 277, 278, 278, 278, 278, 278, 278,...  \n",
       "1  ([678, 678, 678, 678, 678, 678, 678, 678, 678,...  "
      ]
     },
     "execution_count": 5,
     "metadata": {},
     "output_type": "execute_result"
    }
   ],
   "source": [
    "ROIs2"
   ]
  },
  {
   "cell_type": "markdown",
   "id": "a8996d4b",
   "metadata": {},
   "source": [
    "**DELETE LAST ROW**"
   ]
  },
  {
   "cell_type": "code",
   "execution_count": 25,
   "id": "2606af18",
   "metadata": {},
   "outputs": [],
   "source": [
    "ROIs2.drop(ROIs2.tail(1).index,inplace=True)"
   ]
  },
  {
   "cell_type": "markdown",
   "id": "ed9e3a0a",
   "metadata": {},
   "source": [
    "---"
   ]
  },
  {
   "cell_type": "markdown",
   "id": "87f01619",
   "metadata": {},
   "source": [
    "<div class=\"alert alert-block alert-info\">\n",
    "    \n",
    " **PLOT ROIs**\n",
    "    \n",
    "</div>"
   ]
  },
  {
   "cell_type": "code",
   "execution_count": 6,
   "id": "7dd469df",
   "metadata": {},
   "outputs": [
    {
     "data": {
      "image/png": "[encoded data removed]",
      "text/plain": [
       "<Figure size 720x720 with 1 Axes>"
      ]
     },
     "metadata": {
      "needs_background": "light"
     },
     "output_type": "display_data"
    }
   ],
   "source": [
    "%matplotlib inline\n",
    "plot_selected_ROIs(ROIs2,idx)"
   ]
  },
  {
   "cell_type": "markdown",
   "id": "c5b16cf6",
   "metadata": {},
   "source": [
    "<div class=\"alert alert-block alert-info\">\n",
    "    \n",
    " **SAVE ROIs**\n",
    "    \n",
    "</div>"
   ]
  },
  {
   "cell_type": "code",
   "execution_count": 7,
   "id": "181181e8",
   "metadata": {},
   "outputs": [],
   "source": [
    "ROIs2.to_pickle(folder + '//ROIs//ROIs_TEST.pkl')   "
   ]
  },
  {
   "cell_type": "markdown",
   "id": "7329289f",
   "metadata": {},
   "source": [
    "---"
   ]
  }
 ],
 "metadata": {
  "kernelspec": {
   "display_name": "ROI Selection Kernel",
   "language": "python",
   "name": "roiselectionkernel"
  },
  "language_info": {
   "codemirror_mode": {
    "name": "ipython",
    "version": 3
   },
   "file_extension": ".py",
   "mimetype": "text/x-python",
   "name": "python",
   "nbconvert_exporter": "python",
   "pygments_lexer": "ipython3",
   "version": "3.6.15"
  }
 },
 "nbformat": 4,
 "nbformat_minor": 5
}
