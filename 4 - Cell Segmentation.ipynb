{
 "cells": [
  {
   "cell_type": "markdown",
   "id": "7be70596",
   "metadata": {},
   "source": [
    "# <center><font color='red'>4 - CELL SEGMENTATION</font></center>"
   ]
  },
  {
   "cell_type": "markdown",
   "id": "ef583002",
   "metadata": {},
   "source": [
    "### <center><font color='orange'>AUTHOR: Diogo Vieira</font></center>"
   ]
  },
  {
   "cell_type": "markdown",
   "id": "7a31e524",
   "metadata": {},
   "source": [
    "-------------------------------------------"
   ]
  },
  {
   "cell_type": "markdown",
   "id": "db78e514",
   "metadata": {},
   "source": [
    "### <center><font color='grey'>Imports</font></center>"
   ]
  },
  {
   "cell_type": "code",
   "execution_count": 3,
   "id": "89193dc8",
   "metadata": {
    "hide_input": false
   },
   "outputs": [
    {
     "name": "stdout",
     "output_type": "stream",
     "text": [
      "📚 All libraries successfully imported **(for ROI selection)** 📚\n"
     ]
    }
   ],
   "source": [
    "from framework.Importing import label_image,init_import\n",
    "import os\n",
    "import numpy as np\n",
    "import pandas as pd\n",
    "import matplotlib.pyplot as plt\n",
    "from roipoly import RoiPoly\n",
    "import pickle\n",
    "from framework.manual_segmentation import roi_selector\n",
    "\n",
    "print('📚 All libraries successfully imported **(for ROI selection)** 📚')"
   ]
  },
  {
   "cell_type": "markdown",
   "id": "e55cafaa",
   "metadata": {},
   "source": [
    "### <center><font color='grey'>Directories</font></center>"
   ]
  },
  {
   "cell_type": "code",
   "execution_count": 5,
   "id": "1cc0c90a",
   "metadata": {},
   "outputs": [
    {
     "name": "stdout",
     "output_type": "stream",
     "text": [
      ">>> [3D] added.\n"
     ]
    }
   ],
   "source": [
    "### DATASET #1 (2D)\n",
    "#folder    = os.path.dirname(os.getcwd()) + \"\\\\Datasets\\\\Set 1-a-tubulin_Sofia\"\n",
    "#options   = [\"RGB\",\"CYTO_DECONV\",\"NUCL_DECONV\"]\n",
    "\n",
    "### DATASET #2 (3D)\n",
    "#folder    = os.path.dirname(os.getcwd()) + \"\\\\Datasets\\\\Set 3D\"\n",
    "#options   = [\"3D\"]\n",
    "\n",
    "### DATASET #3 (Soraia)\n",
    "folder    = os.path.dirname(os.getcwd()) + \"\\\\Datasets\\\\Soraia\"\n",
    "options   = [\"3D\"]\n",
    "\n",
    "### DATASET #4 (Inês)\n",
    "# folder    = os.path.dirname(os.getcwd()) + \"\\\\Datasets\\\\Ines\"\n",
    "#options     = []\n",
    "\n",
    "\n",
    "data = init_import(folder,options)\n",
    "#data['NUCL_PRE'] = pd.read_pickle(folder + \"\\\\NUCL_PRE\\\\NUCL_PRE.pkl\") # pd.read_pickle(os.getcwd() + \"\\\\NUCL_PRE_2D_StarDist.pkl\") #\n",
    "#data['CYTO_PRE'] = pd.read_pickle(folder + \"\\\\CYTO_PRE\\\\CYTO_PRE.pkl\") "
   ]
  },
  {
   "cell_type": "code",
   "execution_count": 6,
   "id": "5d47b584",
   "metadata": {},
   "outputs": [
    {
     "name": "stdout",
     "output_type": "stream",
     "text": [
      "🔎\n"
     ]
    },
    {
     "name": "stderr",
     "output_type": "stream",
     "text": [
      "Clipping input data to the valid range for imshow with RGB data ([0..1] for floats or [0..255] for integers).\n",
      "Clipping input data to the valid range for imshow with RGB data ([0..1] for floats or [0..255] for integers).\n",
      "Clipping input data to the valid range for imshow with RGB data ([0..1] for floats or [0..255] for integers).\n"
     ]
    },
    {
     "name": "stdout",
     "output_type": "stream",
     "text": [
      "Window closed\n",
      "list index out of range\n"
     ]
    }
   ],
   "source": [
    "%matplotlib qt\n",
    "ROIs2 = roi_selector(data['3D'],12,None)"
   ]
  },
  {
   "cell_type": "code",
   "execution_count": 7,
   "id": "0c5befc2",
   "metadata": {},
   "outputs": [
    {
     "data": {
      "text/html": [
       "<div>\n",
       "<style scoped>\n",
       "    .dataframe tbody tr th:only-of-type {\n",
       "        vertical-align: middle;\n",
       "    }\n",
       "\n",
       "    .dataframe tbody tr th {\n",
       "        vertical-align: top;\n",
       "    }\n",
       "\n",
       "    .dataframe thead th {\n",
       "        text-align: right;\n",
       "    }\n",
       "</style>\n",
       "<table border=\"1\" class=\"dataframe\">\n",
       "  <thead>\n",
       "    <tr style=\"text-align: right;\">\n",
       "      <th></th>\n",
       "      <th>Name</th>\n",
       "      <th>Index</th>\n",
       "      <th>Label</th>\n",
       "      <th>ROImask</th>\n",
       "    </tr>\n",
       "  </thead>\n",
       "  <tbody>\n",
       "    <tr>\n",
       "      <th>0</th>\n",
       "      <td>MAX_12_AGSGatw_2245-0002_decon__ch02_PS.tif</td>\n",
       "      <td>12</td>\n",
       "      <td>2245</td>\n",
       "      <td>[[False, False, False, False, False, False, Fa...</td>\n",
       "    </tr>\n",
       "    <tr>\n",
       "      <th>1</th>\n",
       "      <td>MAX_12_AGSGatw_2245-0002_decon__ch02_PS.tif</td>\n",
       "      <td>12</td>\n",
       "      <td>2245</td>\n",
       "      <td>[[False, False, False, False, False, False, Fa...</td>\n",
       "    </tr>\n",
       "  </tbody>\n",
       "</table>\n",
       "</div>"
      ],
      "text/plain": [
       "                                          Name Index Label  \\\n",
       "0  MAX_12_AGSGatw_2245-0002_decon__ch02_PS.tif    12  2245   \n",
       "1  MAX_12_AGSGatw_2245-0002_decon__ch02_PS.tif    12  2245   \n",
       "\n",
       "                                             ROImask  \n",
       "0  [[False, False, False, False, False, False, Fa...  \n",
       "1  [[False, False, False, False, False, False, Fa...  "
      ]
     },
     "execution_count": 7,
     "metadata": {},
     "output_type": "execute_result"
    }
   ],
   "source": [
    "ROIs2"
   ]
  },
  {
   "cell_type": "code",
   "execution_count": null,
   "id": "22a0ee54",
   "metadata": {},
   "outputs": [],
   "source": [
    "%matplotlib inline\n",
    "img_id = 15\n",
    "df = ROIs[ROIs['Index']==img_id]\n",
    "\n",
    "i = 0\n",
    "for index,row in df.iterrows():\n",
    "    if i == 0:\n",
    "        auxx = row['ROImask']\n",
    "        i = 1\n",
    "    else:\n",
    "        auxx = auxx + row['ROImask']\n",
    "\n",
    "fig,ax = plt.subplots(figsize=(10,10))\n",
    "plt.imshow(auxx,cmap='gray')\n",
    "#plot_nuclei_contours(CentroidsDF=Centroids,imgIndex=img_id,ax=ax)\n",
    "plt.axis('off')\n",
    "# for index,row in Centroids[img_id].iterrows():\n",
    "#     if type(img_id) != int:\n",
    "#         plt.plot(row['Centroid'][1],row['Centroid'][0],'o',color='r',markersize=7,zorder=5)\n",
    "#     else:\n",
    "#         plt.plot(row['Centroid'][1],row['Centroid'][0],'o',color='b',markersize=7,zorder=5)\n",
    "#plt.savefig(\".//maski.png\",format='png',transparent=True,bbox_inches='tight',dpi=500)\n",
    "plt.show()\n",
    "        \n",
    "#for cell in df['ROImask']:\n",
    "#    analyze_cell([texture, dropdown_image.value],mask,[slider_thr.value,slider_linelen.value,slider_linegap.value],Centroids[dropdown_image.value],next(counter),DeconvDF,NucleiDeconvDF,True)"
   ]
  },
  {
   "cell_type": "markdown",
   "id": "a8996d4b",
   "metadata": {},
   "source": [
    "**DELETE LAST ROW**"
   ]
  },
  {
   "cell_type": "code",
   "execution_count": null,
   "id": "2606af18",
   "metadata": {},
   "outputs": [],
   "source": [
    "ROIs.drop(ROIs.tail(1).index,inplace=True)"
   ]
  },
  {
   "cell_type": "markdown",
   "id": "3c8ad4e3",
   "metadata": {},
   "source": [
    "MULTIROI EXPERIMENT"
   ]
  },
  {
   "cell_type": "code",
   "execution_count": null,
   "id": "f715d85a",
   "metadata": {},
   "outputs": [],
   "source": [
    "import logging\n",
    "import pandas as pd\n",
    "import numpy as np\n",
    "from matplotlib import pyplot as plt\n",
    "from roipoly import MultiRoi\n",
    "%matplotlib qt\n",
    "\n",
    "logging.basicConfig(format='%(levelname)s ''%(processName)-10s : %(asctime)s ''%(module)s.%(funcName)s:%(lineno)s %(message)s',level=logging.INFO)\n",
    "\n",
    "img_id = 12\n",
    "\n",
    "ROIsDF    = pd.DataFrame(columns = ['Name','Index','Label','ROImask'])\n",
    "if type(ROIsDF) != pd.core.frame.DataFrame:\n",
    "    ROIsDF    = pd.DataFrame(columns = ['Name','Index','Label','ROImask'])\n",
    "\n",
    "# Create image\n",
    "img = data['3D']['Image'][img_id]\n",
    "mult = np.stack([1.8*data['3D']['Image'][img_id]/np.max(data['3D']['Image'][img_id]),1.8*data['3D']['Image'][img_id-1]/np.max(data['3D']['Image'][img_id-1]),1*data['3D']['Image'][img_id-2]/np.max(data['3D']['Image'][img_id-2])],axis=2)\n",
    "\n",
    "# Show the image\n",
    "fig = plt.figure(figsize=(30,30))\n",
    "plt.imshow(mult, interpolation='nearest', cmap=\"Greys\")\n",
    "figManager = plt.get_current_fig_manager()\n",
    "figManager.window.showMaximized()\n",
    "\n",
    "# Draw multiple ROIs\n",
    "multiROI = MultiRoi(roi_names=['Cell ' + str(i) for i in range(1,30)])\n",
    "\n",
    "# Obtain ROIs\n",
    "roi_names = []\n",
    "masks = []\n",
    "for name, roi in multiROI.rois.items():\n",
    "    masks += [roi.get_mask(img)]\n",
    "    roi_names += [name]"
   ]
  }
 ],
 "metadata": {
  "kernelspec": {
   "display_name": "ROIselection4",
   "language": "python",
   "name": "roiselection4"
  },
  "language_info": {
   "codemirror_mode": {
    "name": "ipython",
    "version": 3
   },
   "file_extension": ".py",
   "mimetype": "text/x-python",
   "name": "python",
   "nbconvert_exporter": "python",
   "pygments_lexer": "ipython3",
   "version": "3.6.15"
  }
 },
 "nbformat": 4,
 "nbformat_minor": 5
}
