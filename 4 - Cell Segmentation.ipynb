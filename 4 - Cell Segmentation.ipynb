{
 "cells": [
  {
   "cell_type": "markdown",
   "id": "0bd4ad60",
   "metadata": {},
   "source": [
    "<div class=\"alert alert-block alert-danger\">\n",
    "    <b> Unraveling the cytoskeletal architecture of cancer cells: a novel computational approach to predict cell fate - CODE</b> \n",
    "    \n",
    " **4 - CELL SEGMENTATION**\n",
    "    \n",
    "**Author**: Diogo Fróis Vieira\n",
    "</div>"
   ]
  },
  {
   "cell_type": "markdown",
   "id": "f4582d95",
   "metadata": {},
   "source": [
    "<div class=\"alert alert-block alert-info\">\n",
    "    \n",
    " **IMPORTS**\n",
    "    \n",
    "</div>"
   ]
  },
  {
   "cell_type": "code",
   "execution_count": 1,
   "id": "89193dc8",
   "metadata": {
    "hide_input": true
   },
   "outputs": [
    {
     "name": "stdout",
     "output_type": "stream",
     "text": [
      "📚 All libraries successfully imported **(for ROI selection)** 📚\n"
     ]
    }
   ],
   "source": [
    "import sys\n",
    "import os\n",
    "sys.path.append(os.path.abspath('..'))\n",
    "from packageCYSK.importing import *\n",
    "import numpy as np\n",
    "import pandas as pd\n",
    "import matplotlib.pyplot as plt\n",
    "import ipywidgets as widgets\n",
    "from ipywidgets import interact, interactive, fixed, interact_manual\n",
    "from IPython.display import display\n",
    "import pickle\n",
    "import cv2\n",
    "from packageCYSK.manual_segmentation import *\n",
    "\n",
    "print('📚 All libraries successfully imported **(for ROI selection)** 📚')"
   ]
  },
  {
   "cell_type": "markdown",
   "id": "5202258b",
   "metadata": {},
   "source": [
    "<div class=\"alert alert-block alert-info\">\n",
    "    \n",
    " **DIRECTORIES**\n",
    "    \n",
    "</div>"
   ]
  },
  {
   "cell_type": "code",
   "execution_count": 2,
   "id": "0caad5c8",
   "metadata": {
    "scrolled": true
   },
   "outputs": [
    {
     "name": "stdout",
     "output_type": "stream",
     "text": [
      ">>> [CYTO] added.\n",
      ">>> [NUCL] added.\n",
      ">>> [RGB] added.\n"
     ]
    }
   ],
   "source": [
    "# Define dataset folder.\n",
    "folder      = os.path.dirname(os.getcwd()) + \"\\\\Datasets\\\\Set 1-a-tubulin_Sofia\"\n",
    "\n",
    "# Import images from CYTO, NUCL and RGB folders.\n",
    "options     = [\"CYTO\",\"NUCL\",\"RGB\"]\n",
    "\n",
    "# Dictionary with keys \"CYTO\", \"NUCL\", \"RGB\".\n",
    "data = init_import(folder,options)"
   ]
  },
  {
   "cell_type": "markdown",
   "id": "c81779f5",
   "metadata": {},
   "source": [
    "<div class=\"alert alert-block alert-info\">\n",
    "    \n",
    " **INSTRUCTIONS**\n",
    "    \n",
    "</div>"
   ]
  },
  {
   "cell_type": "markdown",
   "id": "7c3bcbcd",
   "metadata": {},
   "source": [
    "**1.** Select an image.\n",
    "\n",
    "**2.** Draw a polygonal ROI around the cell of interest with left clicks. Once done, right click, a new window will open and a new ROI can be drawn. A new entry of ```ROIs``` was added with the mask just drawn.\n",
    "\n",
    "**3.** Once done, close the window and observe the dataframe with the ROIs. You can delete the last row of ```ROIs``` if you drew an invalid polygon.\n",
    "\n",
    "**4.** Repeat this process if you have a dataset of images. "
   ]
  },
  {
   "cell_type": "markdown",
   "id": "142f1da8",
   "metadata": {},
   "source": [
    "<div class=\"alert alert-block alert-info\">\n",
    "    \n",
    " **SELECT IMAGE**\n",
    "    \n",
    "</div>"
   ]
  },
  {
   "cell_type": "code",
   "execution_count": 3,
   "id": "31645e0a",
   "metadata": {},
   "outputs": [
    {
     "data": {
      "application/vnd.jupyter.widget-view+json": {
       "model_id": "b4d95189b8a34fef8ab507f1e5128612",
       "version_major": 2,
       "version_minor": 0
      },
      "text/plain": [
       "Dropdown(description='Select Image:', options=('...', '11', '16', '18', '20', '30', '34', '36', '38', '40', '4…"
      ]
     },
     "metadata": {},
     "output_type": "display_data"
    },
    {
     "name": "stdout",
     "output_type": "stream",
     "text": [
      "Image 9 (WT) selected.\n",
      "Image 11 (WT) selected.\n",
      "Image 9 (WT) selected.\n"
     ]
    }
   ],
   "source": [
    "def dropdown_image_eventhandler(change):\n",
    "    global idx\n",
    "    idx = dropdown_image.value\n",
    "    lab = data['CYTO']['Label'][dropdown_image.value]\n",
    "    print('Image ' + str(idx) + ' (' + str(lab) +') selected.')\n",
    "\n",
    "dropdown_image = widgets.Dropdown(description =  'Select Image:' , options = ['...'] + list(data['CYTO'].index))\n",
    "dropdown_image.observe(dropdown_image_eventhandler, names='value')\n",
    "display(dropdown_image)"
   ]
  },
  {
   "cell_type": "markdown",
   "id": "70ce2fb3",
   "metadata": {},
   "source": [
    "<div class=\"alert alert-block alert-info\">\n",
    "    \n",
    " **ROI SELECTION**\n",
    "    \n",
    "</div>"
   ]
  },
  {
   "cell_type": "code",
   "execution_count": 6,
   "id": "f1b0ff27",
   "metadata": {},
   "outputs": [
    {
     "name": "stdout",
     "output_type": "stream",
     "text": [
      "🔎\n",
      "Window closed\n",
      "list index out of range\n"
     ]
    }
   ],
   "source": [
    "%matplotlib qt\n",
    "ROIs = roi_selector(data,idx)"
   ]
  },
  {
   "cell_type": "code",
   "execution_count": 7,
   "id": "daa2b9ae",
   "metadata": {
    "scrolled": true
   },
   "outputs": [
    {
     "data": {
      "text/html": [
       "<div>\n",
       "<style scoped>\n",
       "    .dataframe tbody tr th:only-of-type {\n",
       "        vertical-align: middle;\n",
       "    }\n",
       "\n",
       "    .dataframe tbody tr th {\n",
       "        vertical-align: top;\n",
       "    }\n",
       "\n",
       "    .dataframe thead th {\n",
       "        text-align: right;\n",
       "    }\n",
       "</style>\n",
       "<table border=\"1\" class=\"dataframe\">\n",
       "  <thead>\n",
       "    <tr style=\"text-align: right;\">\n",
       "      <th></th>\n",
       "      <th>Name</th>\n",
       "      <th>Index</th>\n",
       "      <th>Label</th>\n",
       "      <th>Image Size</th>\n",
       "      <th>ROImask</th>\n",
       "    </tr>\n",
       "  </thead>\n",
       "  <tbody>\n",
       "    <tr>\n",
       "      <th>0</th>\n",
       "      <td>MTs_9_WT_None.tif</td>\n",
       "      <td>9</td>\n",
       "      <td>WT</td>\n",
       "      <td>(1040, 1388)</td>\n",
       "      <td>([497, 497, 497, 497, 497, 497, 498, 498, 498,...</td>\n",
       "    </tr>\n",
       "    <tr>\n",
       "      <th>1</th>\n",
       "      <td>MTs_9_WT_None.tif</td>\n",
       "      <td>9</td>\n",
       "      <td>WT</td>\n",
       "      <td>(1040, 1388)</td>\n",
       "      <td>([376, 376, 376, 377, 377, 377, 377, 377, 377,...</td>\n",
       "    </tr>\n",
       "    <tr>\n",
       "      <th>2</th>\n",
       "      <td>MTs_11_WT_None.tif</td>\n",
       "      <td>11</td>\n",
       "      <td>WT</td>\n",
       "      <td>(1040, 1388)</td>\n",
       "      <td>([200, 200, 200, 201, 201, 201, 201, 201, 202,...</td>\n",
       "    </tr>\n",
       "  </tbody>\n",
       "</table>\n",
       "</div>"
      ],
      "text/plain": [
       "                 Name Index Label    Image Size  \\\n",
       "0   MTs_9_WT_None.tif     9    WT  (1040, 1388)   \n",
       "1   MTs_9_WT_None.tif     9    WT  (1040, 1388)   \n",
       "2  MTs_11_WT_None.tif    11    WT  (1040, 1388)   \n",
       "\n",
       "                                             ROImask  \n",
       "0  ([497, 497, 497, 497, 497, 497, 498, 498, 498,...  \n",
       "1  ([376, 376, 376, 377, 377, 377, 377, 377, 377,...  \n",
       "2  ([200, 200, 200, 201, 201, 201, 201, 201, 202,...  "
      ]
     },
     "execution_count": 7,
     "metadata": {},
     "output_type": "execute_result"
    }
   ],
   "source": [
    "ROIs"
   ]
  },
  {
   "cell_type": "markdown",
   "id": "a8996d4b",
   "metadata": {},
   "source": [
    "**DELETE LAST ROW**"
   ]
  },
  {
   "cell_type": "code",
   "execution_count": 25,
   "id": "2606af18",
   "metadata": {},
   "outputs": [],
   "source": [
    "ROIs.drop(ROIs.tail(1).index,inplace=True)"
   ]
  },
  {
   "cell_type": "markdown",
   "id": "ed9e3a0a",
   "metadata": {},
   "source": [
    "---"
   ]
  },
  {
   "cell_type": "markdown",
   "id": "87f01619",
   "metadata": {},
   "source": [
    "<div class=\"alert alert-block alert-info\">\n",
    "    \n",
    " **PLOT ROIs**\n",
    "    \n",
    "</div>"
   ]
  },
  {
   "cell_type": "code",
   "execution_count": 9,
   "id": "7dd469df",
   "metadata": {},
   "outputs": [
    {
     "data": {
      "image/png": "[encoded data removed]",
      "text/plain": [
       "<Figure size 720x720 with 1 Axes>"
      ]
     },
     "metadata": {
      "needs_background": "light"
     },
     "output_type": "display_data"
    }
   ],
   "source": [
    "%matplotlib inline\n",
    "plot_selected_ROIs(ROIs,idx)"
   ]
  },
  {
   "cell_type": "markdown",
   "id": "c5b16cf6",
   "metadata": {},
   "source": [
    "<div class=\"alert alert-block alert-info\">\n",
    "    \n",
    " **SAVE ROIs**\n",
    "    \n",
    "</div>"
   ]
  },
  {
   "cell_type": "code",
   "execution_count": 7,
   "id": "181181e8",
   "metadata": {},
   "outputs": [],
   "source": [
    "ROIs.to_pickle(folder + '//ROIs//ROIs_TEST.pkl')   "
   ]
  },
  {
   "cell_type": "markdown",
   "id": "7329289f",
   "metadata": {},
   "source": [
    "---"
   ]
  }
 ],
 "metadata": {
  "kernelspec": {
   "display_name": "ROI Selection Kernel",
   "language": "python",
   "name": "roiselectionkernel"
  },
  "language_info": {
   "codemirror_mode": {
    "name": "ipython",
    "version": 3
   },
   "file_extension": ".py",
   "mimetype": "text/x-python",
   "name": "python",
   "nbconvert_exporter": "python",
   "pygments_lexer": "ipython3",
   "version": "3.6.15"
  }
 },
 "nbformat": 4,
 "nbformat_minor": 5
}
