{
 "cells": [
  {
   "cell_type": "code",
   "execution_count": 1,
   "id": "689f4b77",
   "metadata": {
    "hide_input": true
   },
   "outputs": [
    {
     "name": "stderr",
     "output_type": "stream",
     "text": [
      "C:\\Users\\diogo\\AppData\\Roaming\\Python\\Python37\\site-packages\\nose\\importer.py:12: DeprecationWarning: the imp module is deprecated in favour of importlib; see the module's documentation for alternative uses\n",
      "  from imp import find_module, load_module, acquire_lock, release_lock\n"
     ]
    },
    {
     "name": "stdout",
     "output_type": "stream",
     "text": [
      "📚\n"
     ]
    }
   ],
   "source": [
    "# Math, image processing and other useful libraries\n",
    "from __future__ import print_function, unicode_literals, absolute_import, division\n",
    "import os\n",
    "import pandas as pd\n",
    "import numpy as np\n",
    "import cv2\n",
    "from collections import OrderedDict\n",
    "import copy\n",
    "import math\n",
    "import pickle\n",
    "from matplotlib.ticker import MaxNLocator\n",
    "from itertools import combinations\n",
    "\n",
    "# Image processing\n",
    "from skimage.measure import regionprops\n",
    "from skimage.filters import meijering, sato, frangi, hessian, threshold_otsu\n",
    "from skimage.morphology import extrema, skeletonize\n",
    "from skimage.transform import probabilistic_hough_line\n",
    "from skimage.draw import disk, circle_perimeter\n",
    "from scipy.ndimage import gaussian_filter, grey_closing\n",
    "from scipy.spatial import distance_matrix\n",
    "from skimage import data, restoration, util\n",
    "from roipoly import RoiPoly\n",
    "from matplotlib_scalebar.scalebar import ScaleBar\n",
    "from biosppy.signals import tools\n",
    "from biosppy.stats import pearson_correlation\n",
    "from sklearn.preprocessing import StandardScaler\n",
    "from sklearn.decomposition import PCA\n",
    "\n",
    "# Plotting\n",
    "import matplotlib.pyplot as plt\n",
    "import matplotlib.cm as pltc\n",
    "import matplotlib.colors as colors\n",
    "import seaborn as sns\n",
    "\n",
    "# Widgets\n",
    "import ipywidgets as widgets\n",
    "from ipywidgets import interact, interactive, fixed, interact_manual\n",
    "from IPython.display import display\n",
    "\n",
    "# Feature Extraction (.py files by Teresa Parreira)\n",
    "# from CytoSkeletonPropsMorph import CytoSkeletonPropsMorph\n",
    "# from CytoSkeletonRegionPropsInt import RegionPropsInt\n",
    "# from FreqAnalysis import FreqAnalysis\n",
    "# from GLCM import GLCM\n",
    "\n",
    "# Graph\n",
    "import sknw\n",
    "import networkx as nx\n",
    "from scipy.signal import argrelextrema\n",
    "\n",
    "# \n",
    "from skan import Skeleton, summarize,draw\n",
    "from skan.csr import skeleton_to_csgraph, sholl_analysis,make_degree_image\n",
    "import scipy as sp\n",
    "import scipy.sparse\n",
    "#from analyze_cell import analyze_cell\n",
    "#from line_segment_features import line_segment_features\n",
    "from matplotlib.patches import Circle\n",
    "from ImageFeatures import ImageFeatures\n",
    "from Functions import label_image, FeaturesFromCentroid, cv2toski,pylsdtoski,init_import,polar_to_cartesian, truncate_colormap, plot_hist, plot_pie, remove_not1D, quantitative_analysis,hist_bin,hist_lim,create_separate_DFs,branch,graphAnalysis\n",
    "from fractal_dimension import fractal_dimension\n",
    "from fractal_analysis_fxns import boxcount,boxcount_grayscale,fractal_dimension,fractal_dimension_grayscale,fractal_dimension_grayscale_DBC\n",
    "from skimage.filters import apply_hysteresis_threshold\n",
    "\n",
    "\n",
    "print('📚')"
   ]
  },
  {
   "cell_type": "code",
   "execution_count": 2,
   "id": "33ed1bd6",
   "metadata": {},
   "outputs": [
    {
     "name": "stdout",
     "output_type": "stream",
     "text": [
      "🌠\n"
     ]
    }
   ],
   "source": [
    "global OriginalDF,DeconvDF,DenoisedDF,NoiseDF,NucleiDeconvDF,SyntheticDF\n",
    "OriginalDF,DeconvDF,DenoisedDF,NoiseDF,NucleiDeconvDF,SyntheticDF = init_import()  # Import Images, add to DataFrame\n",
    "Centroids = pickle.load(open('Centroids.p', 'rb'))\n",
    "TextureDF = pd.read_pickle(os.getcwd() + \"\\\\TextureDF.pkl\")   \n",
    "dir_masks = os.getcwd() + str(\"//nuclei_masks\")\n",
    "ROIs      = pickle.load(open('ROIs.p', 'rb'))\n",
    "ResultsDF = pd.read_pickle(\".//ResultsDF_LSD_Last2.p\")\n",
    "LSF,DCF,DNF,SKNW,OTHERS,FULL = create_separate_DFs(ResultsDF)\n",
    "data = pd.concat([ResultsDF[ResultsDF.columns[:7]] , FULL],axis=1)\n",
    "\n",
    "print('🌠')"
   ]
  },
  {
   "cell_type": "code",
   "execution_count": 5,
   "id": "b1941541",
   "metadata": {},
   "outputs": [
    {
     "data": {
      "text/plain": [
       "(192.13609172482552, 848.8659022931206)"
      ]
     },
     "execution_count": 5,
     "metadata": {},
     "output_type": "execute_result"
    }
   ],
   "source": [
    "def get_centroid_again(ResultsRow):\n",
    "    centroids = Centroids[ResultsRow['Img Index']]\n",
    "    x_,y_   = np.where((ResultsRow['Mask']*1) != 0)\n",
    "\n",
    "    # GET and PLOT centroid\n",
    "    global centroid_list,centroid\n",
    "    centroid_list = []\n",
    "\n",
    "    # GET: centroid inside ROI indexes\n",
    "    for idx,row in centroids.iterrows():\n",
    "        if (round(row['Centroid'][0]),round(row['Centroid'][1])) in list(zip(x_,y_)): \n",
    "            centroid_list += [idx]\n",
    "    if centroid_list == []:  print(\"Error: No centroids within ROI\"); return 0,0,0,0,0,0;\n",
    "    if len(centroid_list) > 1: print(\"Warning: More than 1 centroid identified within ROI\");\n",
    "\n",
    "    # PLOT: first centroid identified and nucleus contour\n",
    "    centroid = centroids.loc[centroid_list[0]]['Centroid']\n",
    "    \n",
    "    return centroid\n",
    "\n",
    "get_centroid_again(data.loc[0])"
   ]
  },
  {
   "cell_type": "code",
   "execution_count": 31,
   "id": "f5a80fc0",
   "metadata": {},
   "outputs": [
    {
     "data": {
      "text/plain": [
       "array([0., 1., 2., 3., 4., 5., 6., 7., 8., 9.])"
      ]
     },
     "execution_count": 31,
     "metadata": {},
     "output_type": "execute_result"
    }
   ],
   "source": [
    "np.linspace(0,90,91)[:10]"
   ]
  },
  {
   "cell_type": "code",
   "execution_count": 26,
   "id": "d86c8acb",
   "metadata": {},
   "outputs": [
    {
     "name": "stdout",
     "output_type": "stream",
     "text": [
      "Warning: More than 1 centroid identified within ROI\n",
      "Warning: More than 1 centroid identified within ROI\n",
      "Warning: More than 1 centroid identified within ROI\n",
      "Warning: More than 1 centroid identified within ROI\n",
      "Warning: More than 1 centroid identified within ROI\n",
      "Warning: More than 1 centroid identified within ROI\n",
      "Warning: More than 1 centroid identified within ROI\n",
      "Warning: More than 1 centroid identified within ROI\n",
      "Warning: More than 1 centroid identified within ROI\n",
      "Warning: More than 1 centroid identified within ROI\n",
      "Warning: More than 1 centroid identified within ROI\n",
      "Warning: More than 1 centroid identified within ROI\n",
      "Warning: More than 1 centroid identified within ROI\n",
      "Warning: More than 1 centroid identified within ROI\n",
      "Warning: More than 1 centroid identified within ROI\n",
      "Error: No centroids within ROI\n",
      "Error: No centroids within ROI\n",
      "Warning: More than 1 centroid identified within ROI\n",
      "Warning: More than 1 centroid identified within ROI\n"
     ]
    }
   ],
   "source": [
    "res = []\n",
    "\n",
    "for index,row in data.iterrows():\n",
    "    res += [get_centroid_again(row)]\n",
    "    \n",
    "data['Nucleus Centroid'] = res"
   ]
  },
  {
   "cell_type": "code",
   "execution_count": null,
   "id": "4d6fc539",
   "metadata": {},
   "outputs": [],
   "source": [
    "temp['LSF:RSpos'] = [x[2] for x in res]\n",
    "\n",
    "resu = []\n",
    "i = 0\n",
    "for i in range(len(temp['LSF:RSpos'])):\n",
    "    nc = temp['Nucleus Centroid'][i]\n",
    "    rs = temp['LSF:RSpos'][i]\n",
    "    resu += [np.sqrt((nc[0]-rs[0])**2 + (nc[1]-rs[1])**2)]\n",
    "    \n",
    "temp['LSF:RS-NucCent Distance'] = resu"
   ]
  },
  {
   "cell_type": "code",
   "execution_count": 34,
   "id": "230169be",
   "metadata": {},
   "outputs": [
    {
     "ename": "error",
     "evalue": "OpenCV(4.5.5) D:\\a\\opencv-python\\opencv-python\\opencv\\modules\\imgproc\\src\\shapedescr.cpp:355: error: (-215:Assertion failed) n >= 0 && (depth == CV_32F || depth == CV_32S) in function 'cv::fitEllipseNoDirect'\n",
     "output_type": "error",
     "traceback": [
      "\u001b[1;31m---------------------------------------------------------------------------\u001b[0m",
      "\u001b[1;31merror\u001b[0m                                     Traceback (most recent call last)",
      "\u001b[1;32m~\\AppData\\Local\\Temp\\ipykernel_20432\\2396729583.py\u001b[0m in \u001b[0;36m<module>\u001b[1;34m\u001b[0m\n\u001b[0;32m      1\u001b[0m \u001b[0mimege\u001b[0m \u001b[1;33m=\u001b[0m \u001b[0mdata\u001b[0m\u001b[1;33m.\u001b[0m\u001b[0mloc\u001b[0m\u001b[1;33m[\u001b[0m\u001b[1;36m0\u001b[0m\u001b[1;33m]\u001b[0m\u001b[1;33m[\u001b[0m\u001b[1;34m'Patches'\u001b[0m\u001b[1;33m]\u001b[0m\u001b[1;33m[\u001b[0m\u001b[1;36m1\u001b[0m\u001b[1;33m]\u001b[0m\u001b[1;33m\u001b[0m\u001b[1;33m\u001b[0m\u001b[0m\n\u001b[0;32m      2\u001b[0m \u001b[0mimege\u001b[0m \u001b[1;33m=\u001b[0m \u001b[0mcv2\u001b[0m\u001b[1;33m.\u001b[0m\u001b[0mconvertScaleAbs\u001b[0m\u001b[1;33m(\u001b[0m\u001b[0mimege\u001b[0m\u001b[1;33m)\u001b[0m\u001b[1;33m\u001b[0m\u001b[1;33m\u001b[0m\u001b[0m\n\u001b[1;32m----> 3\u001b[1;33m \u001b[1;33m(\u001b[0m\u001b[0mx\u001b[0m\u001b[1;33m,\u001b[0m \u001b[0my\u001b[0m\u001b[1;33m)\u001b[0m\u001b[1;33m,\u001b[0m \u001b[1;33m(\u001b[0m\u001b[0mMA\u001b[0m\u001b[1;33m,\u001b[0m \u001b[0mma\u001b[0m\u001b[1;33m)\u001b[0m\u001b[1;33m,\u001b[0m \u001b[0mangle\u001b[0m \u001b[1;33m=\u001b[0m \u001b[0mcv2\u001b[0m\u001b[1;33m.\u001b[0m\u001b[0mfitEllipse\u001b[0m\u001b[1;33m(\u001b[0m\u001b[0mimege\u001b[0m\u001b[1;33m)\u001b[0m\u001b[1;33m\u001b[0m\u001b[1;33m\u001b[0m\u001b[0m\n\u001b[0m",
      "\u001b[1;31merror\u001b[0m: OpenCV(4.5.5) D:\\a\\opencv-python\\opencv-python\\opencv\\modules\\imgproc\\src\\shapedescr.cpp:355: error: (-215:Assertion failed) n >= 0 && (depth == CV_32F || depth == CV_32S) in function 'cv::fitEllipseNoDirect'\n"
     ]
    }
   ],
   "source": [
    "imege = data.loc[0]['Patches'][1]\n",
    "imege = cv2.convertScaleAbs(imege)\n",
    "(x, y), (MA, ma), angle = cv2.fitEllipse(imege)"
   ]
  },
  {
   "cell_type": "markdown",
   "id": "9e969f45",
   "metadata": {},
   "source": [
    "EXPERIÊNCIAS"
   ]
  },
  {
   "cell_type": "code",
   "execution_count": 3,
   "id": "46e561ab",
   "metadata": {},
   "outputs": [
    {
     "data": {
      "image/png": "[encoded data removed]",
      "text/plain": [
       "<Figure size 504x252 with 1 Axes>"
      ]
     },
     "metadata": {
      "needs_background": "light"
     },
     "output_type": "display_data"
    }
   ],
   "source": [
    "import numpy as np\n",
    "import matplotlib.pyplot as plt\n",
    "plt.rcParams[\"figure.figsize\"] = [7.00, 3.50]\n",
    "plt.rcParams[\"figure.autolayout\"] = True\n",
    "N = 20\n",
    "theta = np.linspace(0.0, 2 * np.pi, N, endpoint=False)\n",
    "radii = 10 * np.random.rand(N)\n",
    "width = np.pi / 4 * np.random.rand(N)\n",
    "ax = plt.subplot(111, projection='polar')\n",
    "bars = ax.bar(theta, radii, width=width, bottom=0.0)\n",
    "for r, bar in zip(radii, bars):\n",
    "    bar.set_facecolor(plt.cm.Reds(r / 10.0))\n",
    "    bar.set_alpha(0.5)\n",
    "plt.show()"
   ]
  },
  {
   "cell_type": "code",
   "execution_count": null,
   "id": "85330158",
   "metadata": {},
   "outputs": [],
   "source": [
    "from mpl_toolkits.axes_grid1 import make_axes_locatable\n",
    "#                 divider = make_axes_locatable(ax[0,0])\n",
    "#                 cax = divider.append_axes(\"right\", size=\"5%\", pad=0.05)"
   ]
  },
  {
   "cell_type": "markdown",
   "id": "c22865a5",
   "metadata": {},
   "source": [
    "OLD METHOD"
   ]
  },
  {
   "cell_type": "code",
   "execution_count": null,
   "id": "cb18e206",
   "metadata": {},
   "outputs": [],
   "source": [
    "flag = 18\n",
    "TextureDF = pd.DataFrame(columns=['Name','Label','Image'])\n",
    "\n",
    "for index, row in DeconvDF.iterrows():\n",
    "    if index==flag:\n",
    "    #if True:\n",
    "        # Isolate image\n",
    "        image_original = row['Image']\n",
    "\n",
    "        # Contour Detection\n",
    "        contours, hierarchy = cv2.findContours(image_original, cv2.RETR_EXTERNAL, cv2.CHAIN_APPROX_NONE) \n",
    "\n",
    "        # Filter contours with area above certain threshold\n",
    "        filt_contours = []\n",
    "        for contour in contours:\n",
    "            if cv2.contourArea(contour) > 0:\n",
    "                filt_contours.append(contour)\n",
    "\n",
    "        # Draw contours\n",
    "        contour_outline = np.zeros_like(image_original)\n",
    "        cv2.drawContours(contour_outline, filt_contours, -1, 255, 3)\n",
    "\n",
    "        # Draw inside contour lines\n",
    "        contour_inside = np.zeros_like(image_original) \n",
    "        cv2.fillPoly(contour_inside, pts = filt_contours, color=(255,255,255))\n",
    "\n",
    "        # OPTIONAL - Analyse Red Channel\n",
    "        red_filt = OriginalDF['Image'][16][:,:,2] * (contour_inside / 255)\n",
    "\n",
    "        # Hessian detection\n",
    "        #hessian_img = hessian(red_filt,black_ridges=1,sigmas=[0.1],mode='reflect')\n",
    "        hessian_img = hessian(image_original,black_ridges=False,sigmas=[0.02],mode='reflect',gamma=500)\n",
    "\n",
    "        # Repair image to apply to cv2 algorithm\n",
    "        hessian_img *= 1 # or 255\n",
    "        hessian_img = hessian_img.astype(np.uint8)\n",
    "        hessian_img = 1 - hessian_img\n",
    "\n",
    "        # Get texture image\n",
    "        texture = contour_inside * hessian_img\n",
    "\n",
    "        # Remove white regions\n",
    "        texture_aux = copy.deepcopy(texture)\n",
    "        #kernel = np.ones((3, 3), np.uint8)\n",
    "        #texture_aux = cv2.erode(texture_aux,kernel)\n",
    "        contours_2, hierarchy_2 = cv2.findContours(texture_aux, cv2.RETR_EXTERNAL, cv2.CHAIN_APPROX_NONE)\n",
    "\n",
    "        filtered_contours = []\n",
    "        for contour2 in contours_2:\n",
    "            if cv2.contourArea(contour2) > 400: # 400\n",
    "                # Get pixels inside contour\n",
    "                aux = np.zeros_like(image_original) \n",
    "                cv2.fillPoly(aux, pts = contour2, color=(255,255,255))\n",
    "                #cv2.erode(aux, np.ones((5, 5), np.uint8), iterations=1)\n",
    "                #cv2.dilate(aux, np.ones((5, 5), np.uint8), iterations=1)\n",
    "\n",
    "                # Access the image pixels and create a 1D numpy array then add to list\n",
    "                pixels_contourn = np.where(aux == 255)\n",
    "                pixels_contour = list(zip(pixels_contourn[1],pixels_contourn[0]))\n",
    "                \n",
    "#                 temp = aux[min(pixels_contourn[0]):max(pixels_contourn[0]),min(pixels_contourn[1]):max(pixels_contourn[1])]\n",
    "#                 props = regionprops(temp,temp)\n",
    "#                 # \n",
    "#                 nr_0 = 0\n",
    "#                 nr_255 = 0\n",
    "#                 aux = aux * texture\n",
    "#                 for pixel in pixels_contour:\n",
    "#                     #pixel_i = pixel.reshape((-1))\n",
    "#                     pixel_i = pixel\n",
    "#                     if aux[pixel_i[1],pixel_i[0]] == 255:\n",
    "#                         nr_255 += 1\n",
    "#                     if aux[pixel_i[1],pixel_i[0]] == 0:\n",
    "#                         nr_0 += 1\n",
    "#                 #print(nr_255/(nr_255 + nr_0))\n",
    "#                 print(nr_255,nr_0)\n",
    "#                if cv2.contourArea(contour2) > 1200:\n",
    "                filtered_contours.append(contour2)\n",
    "        \n",
    "        #contour_outline_2 = np.zeros_like(image_original)\n",
    "        #cv2.drawContours(contour_outline_2, filtered_contours, -1, 255, 3)\n",
    "\n",
    "        contour_inside_2 = np.ones(image_original.shape) \n",
    "        cv2.fillPoly(contour_inside_2, pts = filtered_contours, color=(0,0,0))\n",
    "        \n",
    "        # Final texture image\n",
    "        texture_final = texture * contour_inside_2\n",
    "\n",
    "        # Add texture to DataFrame\n",
    "        new       = pd.DataFrame(data={'Name': [row['Name']], 'Label': [row['Label']], 'Image': [texture]}, index = [index])\n",
    "        TextureDF = TextureDF.append(new,ignore_index=False)\n",
    "\n",
    "        # Get lines through Hough transform\n",
    "        lines = probabilistic_hough_line(texture_final, line_length=2, line_gap=1)\n",
    "\n",
    "        # Plot\n",
    "        if index == flag:\n",
    "            plt.figure(figsize=(25,125))\n",
    "            plt.subplot(10,1,1)\n",
    "            plt.imshow(image_original,cmap='gray')\n",
    "            plt.axis('off')\n",
    "            plt.tight_layout()\n",
    "\n",
    "            plt.subplot(10,1,2)\n",
    "            plt.imshow(contour_outline,cmap='gray')\n",
    "            plt.axis('off')\n",
    "            plt.tight_layout()\n",
    "\n",
    "            plt.subplot(10,1,3)\n",
    "            plt.imshow(contour_inside,cmap='gray')\n",
    "            plt.axis('off')\n",
    "            plt.tight_layout()\n",
    "\n",
    "            plt.subplot(10,1,4)\n",
    "            plt.imshow(hessian_img,cmap='gray')\n",
    "            plt.axis('off')\n",
    "            plt.tight_layout()\n",
    "\n",
    "            plt.subplot(10,1,5)\n",
    "            plt.imshow(texture,cmap='gray')\n",
    "            plt.axis('off')\n",
    "            plt.tight_layout()\n",
    "            \n",
    "            plt.subplot(10,1,6)\n",
    "            plt.imshow(contour_inside_2,cmap='gray')\n",
    "            #plt.imshow(contour_outline_2,cmap='gray')\n",
    "            plt.axis('off')\n",
    "            plt.tight_layout()\n",
    "            \n",
    "            plt.subplot(10,1,7)\n",
    "            plt.imshow(texture_final,cmap='gray')\n",
    "            plt.axis('off')\n",
    "            plt.tight_layout()\n",
    "\n",
    "            plt.subplot(10,1,8)\n",
    "            flag_hough = 0\n",
    "            if flag_hough == 1:\n",
    "                plt.imshow(texture * 0,cmap='gray')\n",
    "                for line in lines:\n",
    "                    p0, p1 = line\n",
    "                    plt.plot((p0[0], p1[0]), (p0[1], p1[1]))\n",
    "            plt.axis('off')\n",
    "            plt.tight_layout()\n",
    "\n",
    "            plt.subplot(10,1,9)\n",
    "            plt.imshow(NoiseDF['Image'][flag],cmap='gray',vmin=0,vmax=150)\n",
    "            plt.axis('off')\n",
    "            plt.tight_layout()\n",
    "\n",
    "            plt.subplot(10,1,10)\n",
    "            lines = probabilistic_hough_line(NoiseDF['Image'][flag], line_length=3, line_gap=1)\n",
    "            flag_hough = 0\n",
    "            if flag_hough == 1:\n",
    "                plt.imshow(NoiseDF['Image'][flag] * 0,cmap='gray')\n",
    "                for line in lines:\n",
    "                    p0, p1 = line\n",
    "                    plt.plot((p0[0], p1[0]), (p0[1], p1[1]))\n",
    "            plt.axis('off')\n",
    "            plt.tight_layout()\n",
    "            plt.show()"
   ]
  },
  {
   "cell_type": "markdown",
   "id": "758aa698",
   "metadata": {},
   "source": [
    "----"
   ]
  },
  {
   "cell_type": "code",
   "execution_count": null,
   "id": "9ee2615a",
   "metadata": {},
   "outputs": [],
   "source": [
    "# SUBIMAGE\n",
    "\n",
    "#pixels_contourn\n",
    "\n",
    "temp = aux[min(pixels_contourn[0]):max(pixels_contourn[0]),min(pixels_contourn[1]):max(pixels_contourn[1])]\n",
    "\n",
    "props = regionprops(temp,temp)\n",
    "a = props[0].inertia_tensor_eigvals\n",
    "a\n",
    "\n",
    "#plt.imshow(temp)"
   ]
  },
  {
   "cell_type": "code",
   "execution_count": null,
   "id": "76dce6a8",
   "metadata": {},
   "outputs": [],
   "source": [
    "pixels_contour\n",
    "list(zip(pixels_contour[0],pixels_contour[1]))"
   ]
  },
  {
   "cell_type": "code",
   "execution_count": null,
   "id": "faa58b72",
   "metadata": {},
   "outputs": [],
   "source": [
    "texture_final = copy.deepcopy(texture)\n",
    "contours_2, hierarchy_2 = cv2.findContours(texture_final, cv2.RETR_LIST, cv2.CHAIN_APPROX_NONE)\n",
    "\n",
    "filtered_contours = []\n",
    "for contour2 in contours_2:\n",
    "    if cv2.contourArea(contour2) > 1000:\n",
    "        nr_0 = 0\n",
    "        nr_255 = 0\n",
    "        for pixel in contour2:\n",
    "            pixel_i = pixel.reshape((-1))\n",
    "            if texture[pixel_i[1],pixel_i[0]] == 255:\n",
    "                nr_255 += 1\n",
    "            if texture[pixel_i[1],pixel_i[0]] == 0:\n",
    "                nr_0 +=1\n",
    "        if nr_255/(nr_255 + nr_0) > 0.99:\n",
    "            print('found')\n",
    "#             for pixel in contour2:\n",
    "#                 pixel_i = pixel.reshape((-1))\n",
    "#                 texture[pixel_i[1],pixel_i[0]] = 0\n",
    "            filtered_contours.append(contour2)\n",
    "\n",
    "\n",
    "\n",
    "        \n",
    "            \n",
    "#         texture_final = copy.deepcopy(texture)\n",
    "        \n",
    "#         aux = np.ones(image_original.shape)\n",
    "#         cv2.fillPoly(aux, pts = contour2, color=(0,0,0))\n",
    "#         aux = aux * texture_final\n",
    "\n",
    "#         if np.sum(aux) < 500:\n",
    "#             texture = texture\n",
    "\n",
    "\n",
    "# filtered_contours = []\n",
    "# for contour2 in contours_2:\n",
    "#     if cv2.contourArea(contour2) > 40:\n",
    "#         filtered_contours.append(contour2)\n",
    "\n",
    "contour_outline = np.zeros_like(image_original)\n",
    "cv2.drawContours(contour_outline, filtered_contours, -1, 255, 3)\n",
    "\n",
    "contour_inside = np.ones(image_original.shape) \n",
    "cv2.fillPoly(contour_inside, pts = filtered_contours, color=(0,0,0))\n",
    "\n",
    "# re_contours = []\n",
    "# for contour3 in filtered_contours:\n",
    "#     if cv2.contourArea(contour3) > 40:\n",
    "#         filtered_contours.append(contour3)\n",
    "\n",
    "\n",
    "plt.figure(figsize=(15,15))\n",
    "plt.subplot(3,1,1)\n",
    "plt.imshow(contour_outline,cmap='gray')\n",
    "plt.subplot(3,1,2)\n",
    "plt.imshow(contour_inside,cmap='gray')\n",
    "plt.subplot(3,1,3)\n",
    "plt.imshow(texture * contour_inside,cmap='gray')"
   ]
  },
  {
   "cell_type": "markdown",
   "id": "f89f1242",
   "metadata": {},
   "source": [
    "----"
   ]
  },
  {
   "cell_type": "code",
   "execution_count": null,
   "id": "b67e09ea",
   "metadata": {},
   "outputs": [],
   "source": [
    "from scipy.ndimage import gaussian_filter\n",
    "from skimage.filters import meijering, sato, frangi, hessian\n",
    "from scipy.ndimage import grey_closing\n",
    "from skimage.filters import threshold_otsu\n",
    "from skimage.morphology import extrema\n",
    "from skimage.transform import probabilistic_hough_line\n",
    "\n",
    "\n",
    "#image_original = OriginalDF['Image'][0][:,:,2]\n",
    "image_original = DeconvDF['Image'][0]\n",
    "\n",
    "#image_bin = image > 1  \n",
    "#image_bin = image_bin *1\n",
    "#image_bin = np.where((image_bin==0)|(image_bin==1), image_bin^1, image_bin)\n",
    "\n",
    "#image = gaussian_filter(image_original, sigma=1)\n",
    "#image = extrema.h_minima(image, h=0.01)\n",
    "                    \n",
    "image = hessian(image_original,black_ridges=1,sigmas=[0.1],mode='reflect')\n",
    "#image = hessian(image,black_ridges=1,sigmas=np.linspace(0.8,5,9),mode='reflect',alpha=2.0,beta=0.5)\n",
    "\n",
    "image *= 1 # or 255\n",
    "image = image.astype(np.uint8)\n",
    "\n",
    "\n",
    "contours, hierarchy = cv2.findContours(image_original, cv2.RETR_EXTERNAL, cv2.CHAIN_APPROX_NONE) \n",
    " \n",
    "filt_contours = []\n",
    "for contour in contours:\n",
    "    if cv2.contourArea(contour) > 50:\n",
    "        filt_contours.append(contour)\n",
    "#thr = threshold_otsu(image)\n",
    "#image = cv2.Canny(image*255, thr, 0.75*thr)\n",
    "\n",
    "#image = grey_closing(image,structure='ellipsoid')\n",
    "\n",
    "\n",
    "out = np.zeros_like(image_original)\n",
    "cv2.drawContours(out, filt_contours, -1, 255, 3)\n",
    "\n",
    "\n",
    "img = np.zeros_like(image_original) \n",
    "cv2.fillPoly(img, pts = filt_contours, color=(255,255,255))\n",
    "\n",
    "\n",
    "FINAL = img * image\n",
    "\n",
    "lines       = probabilistic_hough_line(FINAL, threshold=2, line_length=5, line_gap=10)\n",
    "\n",
    "\n",
    "\n",
    "\n",
    "plt.figure(figsize=(25,45))\n",
    "plt.subplot(6,1,1)\n",
    "plt.imshow(image_original,cmap='gray')\n",
    "plt.axis('off')\n",
    "plt.tight_layout()\n",
    "\n",
    "plt.subplot(6,1,2)\n",
    "plt.imshow(image,cmap='gray')\n",
    "plt.axis('off')\n",
    "plt.tight_layout()\n",
    "\n",
    "plt.subplot(6,1,3)\n",
    "plt.imshow(out,cmap='gray')\n",
    "plt.axis('off')\n",
    "plt.tight_layout()\n",
    "\n",
    "plt.subplot(6,1,4)\n",
    "plt.imshow(img,cmap='gray')\n",
    "plt.axis('off')\n",
    "plt.tight_layout()\n",
    "\n",
    "\n",
    "plt.subplot(6,1,5)\n",
    "plt.imshow(FINAL,cmap='gray')\n",
    "flag = 0\n",
    "if flag == 1:\n",
    "    #plt.imshow(image * 0,cmap='gray')\n",
    "    for line in lines:\n",
    "        p0, p1 = line\n",
    "        plt.plot((p0[0], p1[0]), (p0[1], p1[1]))\n",
    "\n",
    "plt.axis('off')\n",
    "plt.tight_layout()\n",
    "\n",
    "\n",
    "plt.subplot(6,1,6)\n",
    "plt.imshow(NoiseDF['Image'][12],cmap='gray',vmin=0,vmax=150)\n",
    "plt.axis('off')\n",
    "plt.tight_layout()\n",
    "\n",
    "\n",
    "plt.show()\n"
   ]
  },
  {
   "cell_type": "markdown",
   "id": "948de377",
   "metadata": {},
   "source": [
    "----"
   ]
  },
  {
   "cell_type": "code",
   "execution_count": null,
   "id": "9c0efb55",
   "metadata": {},
   "outputs": [],
   "source": [
    "from skimage.segmentation import chan_vese\n",
    "\n",
    "image = DeconvDF['Image'][2]\n",
    "\n",
    "cv = chan_vese(image, mu=0.1, lambda1=1, lambda2=1, tol=1e-3, dt=0.5, init_level_set=\"checkerboard\", extended_output=True)\n",
    "\n",
    "plt.figure(figsize=(15,15))\n",
    "plt.imshow(cv[1], cmap=\"gray\")\n",
    "plt.axis('off')"
   ]
  },
  {
   "cell_type": "markdown",
   "id": "31467901",
   "metadata": {},
   "source": [
    "----"
   ]
  },
  {
   "cell_type": "markdown",
   "id": "3b66d19f",
   "metadata": {},
   "source": [
    "----"
   ]
  },
  {
   "cell_type": "markdown",
   "id": "750d5056",
   "metadata": {},
   "source": [
    "----"
   ]
  },
  {
   "cell_type": "code",
   "execution_count": null,
   "id": "710aa6d6",
   "metadata": {},
   "outputs": [],
   "source": [
    "from sklearn.cluster import KMeans\n",
    "\n",
    "cent_x, cent_y = zip(*isolated_nucleus['Centroids'])\n",
    "cent = np.vstack((np.array(list(cent_x)),np.array(list(cent_y)))).T\n",
    "\n",
    "init = {'k-means++', cent}\n",
    "kmeans = KMeans(n_clusters=isolated_nucleus.shape[0],init = init, n_init=100).fit_predict(test)"
   ]
  },
  {
   "cell_type": "code",
   "execution_count": null,
   "id": "bbcc91b5",
   "metadata": {},
   "outputs": [],
   "source": [
    "#### WITH SKLEARN (not working either)\n",
    "\n",
    "from sklearn.cluster import KMeans\n",
    "\n",
    "ind = 0\n",
    "for img in OriginalImages.keys():          # USE MAHALANOBIS DISTANCE!\n",
    "    if ind != 0:\n",
    "        break\n",
    "    \n",
    "    # Prepare centroid matrix for k-means initialization\n",
    "    cent_x, cent_y = zip(*isolated_nucleus['Centroids'])\n",
    "    cent = np.vstack((np.array(list(cent_x)),np.array(list(cent_y)))).T\n",
    "    \n",
    "    # K-means with n_clusters = nº nucleus and initial centroids = nucleus centroids\n",
    "    kmeans = KMeans(n_clusters=isolated_nucleus.shape[0], random_state=0,n_init=100).fit_predict(OriginalImages[k])\n",
    "    #criteria = (cv2.TERM_CRITERIA_EPS + cv2.TERM_CRITERIA_MAX_ITER, 100, 0.2)\n",
    "    image = np.float32(OriginalImages[img][:,:,0])\n",
    "    k = 100\n",
    "    _, labels, (centers) = cv2.kmeans(image, k, None, criteria, 10, cv2.KMEANS_RANDOM_CENTERS)"
   ]
  },
  {
   "cell_type": "code",
   "execution_count": null,
   "id": "09b163c5",
   "metadata": {},
   "outputs": [],
   "source": [
    "####### WITH CV2 (not working)\n",
    "\n",
    "from sklearn.cluster import KMeans\n",
    "\n",
    "ind = 0\n",
    "for img in OriginalImages.keys():          # USE MAHALANOBIS DISTANCE!\n",
    "    if ind != 0:\n",
    "        break\n",
    "        \n",
    "    #kmeans = KMeans(n_clusters=90, random_state=0,n_init=100).fit_predict(OriginalImages[k])\n",
    "    criteria = (cv2.TERM_CRITERIA_EPS + cv2.TERM_CRITERIA_MAX_ITER, 100, 0.2)\n",
    "    image = np.float32(OriginalImages[img][:,:,0])\n",
    "    k = 100\n",
    "    _, labels, (centers) = cv2.kmeans(image, k, None, criteria, 10, cv2.KMEANS_RANDOM_CENTERS)"
   ]
  },
  {
   "cell_type": "code",
   "execution_count": 2,
   "id": "d6a184c4",
   "metadata": {},
   "outputs": [
    {
     "ename": "NameError",
     "evalue": "name 'np' is not defined",
     "output_type": "error",
     "traceback": [
      "\u001b[1;31m---------------------------------------------------------------------------\u001b[0m",
      "\u001b[1;31mNameError\u001b[0m                                 Traceback (most recent call last)",
      "\u001b[1;32m~\\AppData\\Local\\Temp/ipykernel_14808/2303268126.py\u001b[0m in \u001b[0;36m<module>\u001b[1;34m\u001b[0m\n\u001b[1;32m----> 1\u001b[1;33m \u001b[0mlabel\u001b[0m \u001b[1;33m=\u001b[0m \u001b[0mnp\u001b[0m\u001b[1;33m.\u001b[0m\u001b[0mreshape\u001b[0m\u001b[1;33m(\u001b[0m\u001b[0mward\u001b[0m\u001b[1;33m.\u001b[0m\u001b[0mlabels_\u001b[0m\u001b[1;33m,\u001b[0m \u001b[0mimg\u001b[0m\u001b[1;33m.\u001b[0m\u001b[0mshape\u001b[0m\u001b[1;33m)\u001b[0m\u001b[1;33m\u001b[0m\u001b[1;33m\u001b[0m\u001b[0m\n\u001b[0m\u001b[0;32m      2\u001b[0m \u001b[1;33m\u001b[0m\u001b[0m\n\u001b[0;32m      3\u001b[0m \u001b[0mplt\u001b[0m\u001b[1;33m.\u001b[0m\u001b[0mfigure\u001b[0m\u001b[1;33m(\u001b[0m\u001b[0mfigsize\u001b[0m\u001b[1;33m=\u001b[0m\u001b[1;33m(\u001b[0m\u001b[1;36m5\u001b[0m\u001b[1;33m,\u001b[0m \u001b[1;36m5\u001b[0m\u001b[1;33m)\u001b[0m\u001b[1;33m)\u001b[0m\u001b[1;33m\u001b[0m\u001b[1;33m\u001b[0m\u001b[0m\n\u001b[0;32m      4\u001b[0m \u001b[0mplt\u001b[0m\u001b[1;33m.\u001b[0m\u001b[0mimshow\u001b[0m\u001b[1;33m(\u001b[0m\u001b[0mimg\u001b[0m\u001b[1;33m,\u001b[0m \u001b[0mcmap\u001b[0m\u001b[1;33m=\u001b[0m\u001b[0mplt\u001b[0m\u001b[1;33m.\u001b[0m\u001b[0mcm\u001b[0m\u001b[1;33m.\u001b[0m\u001b[0mgray\u001b[0m\u001b[1;33m)\u001b[0m\u001b[1;33m\u001b[0m\u001b[1;33m\u001b[0m\u001b[0m\n\u001b[0;32m      5\u001b[0m \u001b[1;32mfor\u001b[0m \u001b[0ml\u001b[0m \u001b[1;32min\u001b[0m \u001b[0mrange\u001b[0m\u001b[1;33m(\u001b[0m\u001b[0mn_clusters\u001b[0m\u001b[1;33m)\u001b[0m\u001b[1;33m:\u001b[0m\u001b[1;33m\u001b[0m\u001b[1;33m\u001b[0m\u001b[0m\n",
      "\u001b[1;31mNameError\u001b[0m: name 'np' is not defined"
     ]
    }
   ],
   "source": [
    "label = np.reshape(ward.labels_, img.shape)\n",
    "\n",
    "plt.figure(figsize=(5, 5))\n",
    "plt.imshow(img, cmap=plt.cm.gray)\n",
    "for l in range(n_clusters):\n",
    "    plt.contour(label == l, contours=1, colors=[plt.cm.Spectral(l / float(n_clusters)), ])\n",
    "    \n",
    "plt.xticks(())\n",
    "plt.yticks(())\n",
    "plt.show()"
   ]
  },
  {
   "cell_type": "code",
   "execution_count": null,
   "id": "2b2ecdb7",
   "metadata": {},
   "outputs": [],
   "source": [
    "from sklearn.feature_extraction.image import grid_to_graph\n",
    "from sklearn.cluster import AgglomerativeClustering\n",
    "import scipy as sp\n",
    "\n",
    "#NoiseDF['Image'][1]\n",
    "#Centroids['nuclei_'+OriginalDF['Name'][2]]\n",
    "img = cv2.cvtColor(NoiseDF['Image'][1],cv2.COLOR_GRAY2RGB)\n",
    "X = np.reshape(image, (-1, 1))\n",
    "\n",
    "\n",
    "\n",
    "# SQUARE NoiseDF['Image'][1][:,:1040]\n",
    "#img = NoiseDF['Image'][1]\n",
    "#kmeans = KMeans(n_clusters=  len(Centroids['nuclei_'+OriginalDF['Name'][2]]) , random_state = 42).fit(df_island)\n",
    "#result = kmeans.labels_.reshape(img.shape[0],img.shape[1])\n",
    "\n",
    "connectivity = grid_to_graph(*img.shape)\n",
    "\n",
    "n_clusters = len(Centroids['nuclei_'+OriginalDF['Name'][2]]) \n",
    "ward = AgglomerativeClustering(n_clusters=n_clusters, linkage='ward',connectivity=connectivity).fit(X)\n",
    "\n",
    "label = np.reshape(ward.labels_, img.shape)\n",
    "\n",
    "plt.figure(figsize=(5, 5))\n",
    "plt.imshow(img, cmap=plt.cm.gray)\n",
    "for l in range(n_clusters):\n",
    "    plt.contour(label == l, contours=1, colors=[plt.spectral(l / float(n_clusters)), ])\n",
    "    \n",
    "plt.xticks(())\n",
    "plt.yticks(())\n",
    "plt.show()"
   ]
  },
  {
   "cell_type": "code",
   "execution_count": null,
   "id": "ad30768f",
   "metadata": {},
   "outputs": [],
   "source": [
    "from sklearn.cluster import KMeans\n",
    "df_img = pd.DataFrame(NoiseDF['Image'][1])\n",
    "kmeans = KMeans(n_clusters=len(Centroids['nuclei_'+OriginalDF['Name'][2]]), random_state = 42).fit(df_img)\n",
    "result = kmeans.predict(df_img)\n",
    "\n",
    "plt.imshow(result, cmap='twilight');"
   ]
  },
  {
   "cell_type": "code",
   "execution_count": null,
   "id": "f5a6a37d",
   "metadata": {},
   "outputs": [],
   "source": [
    "image = cv2.cvtColor(NoiseDF['Image'][1],cv2.COLOR_GRAY2RGB)\n",
    "pixel_values = image.reshape((-1, 3))\n",
    "pixel_values = np.float32(pixel_values)\n",
    "criteria = (cv2.TERM_CRITERIA_EPS + cv2.TERM_CRITERIA_MAX_ITER, 100, 0.2)\n",
    "k = len(Centroids['nuclei_'+OriginalDF['Name'][2]])\n",
    "_, labels, (centers) = cv2.kmeans(pixel_values, k, None, criteria, 10, cv2.KMEANS_RANDOM_CENTERS)\n",
    "centers = np.uint8(centers)\n",
    "labels = labels.flatten()\n",
    "segmented_image = centers[labels.flatten()]\n",
    "segmented_image = segmented_image.reshape(image.shape)\n",
    "plt.imshow(segmented_image)"
   ]
  },
  {
   "cell_type": "markdown",
   "id": "91e30bfb",
   "metadata": {},
   "source": [
    "-----"
   ]
  },
  {
   "cell_type": "markdown",
   "id": "dd48f328",
   "metadata": {},
   "source": [
    "## 4.1 Save Blue (Nuclei) Channel from Original Image"
   ]
  },
  {
   "cell_type": "code",
   "execution_count": null,
   "id": "5923a13b",
   "metadata": {},
   "outputs": [],
   "source": [
    "# Change directory first (Because cv2.imwrite does not allow us to specify a directory)\n",
    "#cwd = os.getcwd()\n",
    "#os.chdir(cwd + '\\\\nuclei')\n",
    "#\n",
    "# Save images in new directory with 'nuclei_' in the beggining of the string\n",
    "#for index,row in NucleiDeconvDF.iterrows():\n",
    "#    cv2.imwrite('nuclei_' + row['Name'], row['Image'])\n",
    "#    \n",
    "# Change directory to main folder again\n",
    "#os.chdir(cwd)"
   ]
  },
  {
   "cell_type": "markdown",
   "id": "ba83d02a",
   "metadata": {},
   "source": [
    "### 4.2.1 Importing libraries"
   ]
  },
  {
   "cell_type": "markdown",
   "id": "015836be",
   "metadata": {},
   "source": [
    "This might be a problematic part since the versions of the libraries used matter."
   ]
  },
  {
   "cell_type": "code",
   "execution_count": 1,
   "id": "55086294",
   "metadata": {},
   "outputs": [],
   "source": [
    "#!pip install tensorflow==1.15.2 \n",
    "#!pip install stardist --user\n",
    "#!pip install --upgrade tensorflow --user\n",
    "#!pip install --upgrade tensorflow-gpu --user\n",
    "#!pip install scikit-learn==0.21.2 --user\n",
    "#!pip install pandas==0.25.3 --user "
   ]
  },
  {
   "cell_type": "markdown",
   "id": "cfc399e9",
   "metadata": {},
   "source": [
    "if:\n",
    "> ValueError: TiffPage 0: <COMPRESSION.LZW: 5> requires the 'imagecodecs' package \n",
    "\n",
    "do \n",
    "\n",
    "> !pip install imagecodecs OR !pip install tifffile "
   ]
  },
  {
   "cell_type": "code",
   "execution_count": null,
   "id": "b1333f1f",
   "metadata": {},
   "outputs": [],
   "source": []
  },
  {
   "cell_type": "code",
   "execution_count": null,
   "id": "fb7c86eb",
   "metadata": {},
   "outputs": [],
   "source": []
  },
  {
   "cell_type": "code",
   "execution_count": null,
   "id": "daba19b6",
   "metadata": {},
   "outputs": [],
   "source": [
    "# TEST CELL!!!!!!!!!!!!!!!!!!!!!!!!!!!!!!!!!!!!!!!!!!!!!!!!!!!!!!!!!!!!!!!!!!!!!!!!!!!!!!!!!!!!\n",
    "%matplotlib inline\n",
    "plt.figure(figsize=(15,15))\n",
    "path     = dir_masks + '/' + NucleiDeconvDF['Name'][16]\n",
    "nuc_mask = cv2.imread(path,-1)\n",
    "#plt.imshow(Centroids[11]['Mask With ID'],cmap=\"gray\")\n",
    "plt.imshow(nuc_mask,cmap=\"gray\")\n",
    "\n",
    "# Plot centroids for given image\n",
    "for index_c,row_c in Centroids[16].iterrows():\n",
    "    plt.plot(row_c['Centroid'][1],row_c['Centroid'][0],'o',color='blue',markersize=8)\n",
    "    contourr  = row_c['Contour'][0]\n",
    "    cr = contourr.reshape((contourr.shape[0],contourr.shape[2]))\n",
    "    plt.plot(cr[:,0],cr[:,1],'--',color='w',zorder=11,linewidth=2)\n",
    "    \n",
    "\n",
    "# Plot specs\n",
    "plt.axis('off')"
   ]
  }
 ],
 "metadata": {
  "kernelspec": {
   "display_name": "Python 3 (ipykernel)",
   "language": "python",
   "name": "python3"
  },
  "language_info": {
   "codemirror_mode": {
    "name": "ipython",
    "version": 3
   },
   "file_extension": ".py",
   "mimetype": "text/x-python",
   "name": "python",
   "nbconvert_exporter": "python",
   "pygments_lexer": "ipython3",
   "version": "3.7.11"
  }
 },
 "nbformat": 4,
 "nbformat_minor": 5
}
