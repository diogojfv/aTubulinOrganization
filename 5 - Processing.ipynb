{
 "cells": [
  {
   "cell_type": "markdown",
   "id": "7be70596",
   "metadata": {},
   "source": [
    "<div class=\"alert alert-block alert-danger\">\n",
    " <b>5 - PROCESSING </b> \n",
    "    \n",
    "**Author**: Diogo Fróis Vieira\n",
    "</div>"
   ]
  },
  {
   "cell_type": "markdown",
   "id": "7a31e524",
   "metadata": {},
   "source": [
    "-------------------------------------------"
   ]
  },
  {
   "cell_type": "markdown",
   "id": "db78e514",
   "metadata": {},
   "source": [
    "### <center><font color='grey'>Imports</font></center>"
   ]
  },
  {
   "cell_type": "code",
   "execution_count": 1,
   "id": "42c2a0cd",
   "metadata": {
    "code_folding": [
     0
    ],
    "hide_input": false
   },
   "outputs": [
    {
     "name": "stdout",
     "output_type": "stream",
     "text": [
      "📚 All libraries successfully imported 📚\n"
     ]
    }
   ],
   "source": [
    "# Math, image processing and other useful libraries\n",
    "from __future__ import print_function, unicode_literals, absolute_import, division\n",
    "import os\n",
    "\n",
    "import pandas as pd\n",
    "import numpy as np\n",
    "import cv2\n",
    "from collections import OrderedDict\n",
    "import copy\n",
    "import math\n",
    "import pickle\n",
    "from matplotlib.ticker import MaxNLocator\n",
    "from itertools import combinations\n",
    "\n",
    "# Image processing\n",
    "from skimage.measure import regionprops\n",
    "from skimage.filters import meijering, sato, frangi, hessian, threshold_otsu\n",
    "from skimage.morphology import extrema, skeletonize\n",
    "from skimage.transform import probabilistic_hough_line\n",
    "from skimage.draw import disk, circle_perimeter\n",
    "from scipy.ndimage import gaussian_filter, grey_closing\n",
    "from scipy.spatial import distance_matrix\n",
    "from skimage import data, restoration, util\n",
    "from roipoly import RoiPoly\n",
    "from matplotlib_scalebar.scalebar import ScaleBar\n",
    "from biosppy.signals import tools\n",
    "from biosppy.stats import pearson_correlation\n",
    "from sklearn.preprocessing import StandardScaler\n",
    "from sklearn.decomposition import PCA\n",
    "\n",
    "# Plotting\n",
    "import matplotlib.pyplot as plt\n",
    "import matplotlib.cm as pltc\n",
    "import matplotlib.colors as colors\n",
    "import seaborn as sns\n",
    "\n",
    "# Widgets\n",
    "import ipywidgets as widgets\n",
    "from ipywidgets import interact, interactive, fixed, interact_manual\n",
    "from IPython.display import display\n",
    "\n",
    "# Feature Extraction (.py files by Teresa Parreira)\n",
    "# from CytoSkeletonPropsMorph import CytoSkeletonPropsMorph\n",
    "# from CytoSkeletonRegionPropsInt import RegionPropsInt\n",
    "# from FreqAnalysis import FreqAnalysis\n",
    "# from GLCM import GLCM\n",
    "\n",
    "# Graph\n",
    "import sknw\n",
    "import networkx as nx\n",
    "from scipy.signal import argrelextrema\n",
    "\n",
    "# \n",
    "from skan import Skeleton, summarize,draw\n",
    "from skan.csr import skeleton_to_csgraph, sholl_analysis,make_degree_image\n",
    "import scipy as sp\n",
    "import scipy.sparse\n",
    "from matplotlib.patches import Circle\n",
    "\n",
    "from framework.Functions import cv2toski,pylsdtoski,polar_to_cartesian, remove_not1D, quantitative_analysis,hist_bin,hist_lim,branch,graphAnalysis\n",
    "from framework.importing import *\n",
    "from framework.preprocessingCYTO import *\n",
    "#from framework.PreProcessingNUCL import excludeborder, nuclei_preprocessing, df_nuclei_preprocessing, nuclei_segmentation\n",
    "from framework.processing import *\n",
    "from framework.visualization import *\n",
    "from framework.analysis import plot_barplot\n",
    "from framework.processing_LSF import *\n",
    "from framework.processing_DCF import *\n",
    "from framework.processing_CNF import *\n",
    "#from fractal_dimension import fractal_dimension\n",
    "#from fractal_analysis_fxns import boxcount,boxcount_grayscale,fractal_dimension,fractal_dimension_grayscale,fractal_dimension_grayscale_DBC\n",
    "\n",
    "print('📚 All libraries successfully imported 📚')"
   ]
  },
  {
   "cell_type": "markdown",
   "id": "63b3e864",
   "metadata": {},
   "source": [
    "#### <center><font color='grey'>Directories</font></center>"
   ]
  },
  {
   "cell_type": "code",
   "execution_count": 2,
   "id": "8ea36b3c",
   "metadata": {},
   "outputs": [
    {
     "name": "stdout",
     "output_type": "stream",
     "text": [
      ">>> [CYTO] added.\n",
      ">>> [NUCL] added.\n"
     ]
    }
   ],
   "source": [
    "### DATASET #1 (2D)\n",
    "folder    = os.path.dirname(os.getcwd()) + \"\\\\Datasets\\\\Set 1-a-tubulin_Sofia\"\n",
    "options   = [\"CYTO\",\"NUCL\"]\n",
    "denominator = label_tubulin\n",
    "\n",
    "### DATASET #2 (3D)\n",
    "# folder      = os.path.dirname(os.getcwd()) + \"\\\\Datasets\\\\Set 3D\"\n",
    "# options     = [\"CYTO3D\",\"NUCL3D\"]\n",
    "# denominator = label_tubulin3D\n",
    "\n",
    "### DATASET #3 (Soraia)\n",
    "# folder      = os.path.dirname(os.getcwd()) + \"\\\\Datasets\\\\Soraia\"\n",
    "# options     = [\"CYTO\",\"NUCL\"]\n",
    "# denominator = label_soraia\n",
    "\n",
    "### DATASET #4 (Inês)\n",
    "# folder    = os.path.dirname(os.getcwd()) + \"\\\\Datasets\\\\Ines\"\n",
    "#options     = []\n",
    "# denominator  =\n",
    "\n",
    "### DATASET #4 (SPOCC)\n",
    "# folder      = os.path.dirname(os.getcwd()) + \"\\\\Datasets\\\\SPOCC2022\"\n",
    "# options     = [\"CYTO\"]\n",
    "# denominator = label_SPOCC\n",
    "\n",
    "### DATASET #5 (p28)\n",
    "# folder      = os.path.dirname(os.getcwd()) + \"\\\\Datasets\\\\p28\"\n",
    "# options     = [\"CYTO\"]\n",
    "# denominator = label_p28\n",
    "\n",
    "data = init_import(folder,options,denominator)\n",
    "\n",
    "data['NUCL_PRE'] = pd.read_pickle(folder + \"\\\\NUCL_PRE\\\\NUCL_PRE.pkl\") # pd.read_pickle(os.getcwd() + \"\\\\NUCL_PRE_2D_StarDist.pkl\") #\n",
    "data['CYTO_PRE'] = pd.read_pickle(folder + \"\\\\CYTO_PRE\\\\CYTO_PRE.pkl\") \n",
    "ROIs             = pickle.load(open(folder + '\\\\ROIs\\\\'+ 'ROIs_cut.pkl', 'rb'))  \n",
    "\n",
    "\n",
    "# data['NUCL'].index = data['CYTO'].index\n",
    "# data['CYTO_PRE'].index = data['CYTO'].index\n",
    "\n",
    "#ResultsDF = pd.read_pickle(folder + \"\\\\ResultsDF_9_jan_24.pkl\")\n",
    "#TextureDF = pd.read_pickle(\"TextureDF_paper.pkl\")\n",
    "#CentroidsDF = pickle.load(open(folder + '\\\\Centroids.p', 'rb'))  \n",
    "#ResultsDF = pd.read_pickle(folder + \"\\\\ResultsDF_try.pkl\")\n",
    "#ResultsDF = pd.read_pickle(folder + \"\\\\ResultsDF.pkl\")"
   ]
  },
  {
   "cell_type": "markdown",
   "id": "d389761b",
   "metadata": {},
   "source": [
    "## Processing Cell"
   ]
  },
  {
   "cell_type": "code",
   "execution_count": 4,
   "id": "0d4098bf",
   "metadata": {},
   "outputs": [],
   "source": [
    "cell = 65"
   ]
  },
  {
   "cell_type": "code",
   "execution_count": 19,
   "id": "cfccdf5e",
   "metadata": {},
   "outputs": [],
   "source": [
    "ResultsDF = processing_cell(rowROI           = ROIs.loc[cell],\n",
    "                            data             = data,\n",
    "                            LSFparams        = {'res_thr': 4})\n",
    "\n",
    "ResultsDF"
   ]
  },
  {
   "cell_type": "markdown",
   "id": "c3bf824f",
   "metadata": {},
   "source": [
    "## Processing Dataframe"
   ]
  },
  {
   "cell_type": "code",
   "execution_count": 32,
   "id": "ea0985c2",
   "metadata": {
    "scrolled": true
   },
   "outputs": [
    {
     "name": "stdout",
     "output_type": "stream",
     "text": [
      ">>> Progress: 0.0% 0\n",
      ">>> Progress: 0.095% 1\n",
      ">>> Progress: 0.191% 2\n",
      ">>> Progress: 0.286% 3\n",
      "symmetric branch  True [[132. 901.]\n",
      " [133. 902.]\n",
      " [132. 903.]]\n",
      "symmetric branch  True [[229. 932.]\n",
      " [230. 933.]\n",
      " [230. 934.]\n",
      " [230. 935.]\n",
      " [229. 936.]]\n",
      ">>> Progress: 0.381% 4\n"
     ]
    },
    {
     "data": {
      "text/html": [
       "<div>\n",
       "<style scoped>\n",
       "    .dataframe tbody tr th:only-of-type {\n",
       "        vertical-align: middle;\n",
       "    }\n",
       "\n",
       "    .dataframe tbody tr th {\n",
       "        vertical-align: top;\n",
       "    }\n",
       "\n",
       "    .dataframe thead tr th {\n",
       "        text-align: left;\n",
       "    }\n",
       "</style>\n",
       "<table border=\"1\" class=\"dataframe\">\n",
       "  <thead>\n",
       "    <tr>\n",
       "      <th></th>\n",
       "      <th>Name</th>\n",
       "      <th>Img Index</th>\n",
       "      <th>Label</th>\n",
       "      <th>Mask</th>\n",
       "      <th>Patch:Skeleton</th>\n",
       "      <th>Patch:Deconvoluted Cyto</th>\n",
       "      <th>Patch:Deconvoluted Nucl</th>\n",
       "      <th>Patch:Skeleton Max</th>\n",
       "      <th>Offset</th>\n",
       "      <th>Nucleus Contour</th>\n",
       "      <th>Nucleus Centroid</th>\n",
       "      <th>Graph</th>\n",
       "      <th>Lines</th>\n",
       "    </tr>\n",
       "  </thead>\n",
       "  <tbody>\n",
       "    <tr>\n",
       "      <th>0</th>\n",
       "      <td>MAX_38_IF6_CHO_L-W5_Z_decon_ch02_PS.tif</td>\n",
       "      <td>38</td>\n",
       "      <td>No transfection</td>\n",
       "      <td>[[False, False, False, False, False, False, Fa...</td>\n",
       "      <td>[[0, 0, 0, 0, 0, 0, 0, 0, 0, 0, 0, 0, 0, 0, 0,...</td>\n",
       "      <td>[[0.0, 0.0, 0.0, 0.0, 0.0, 0.0, 0.0, 0.0, 0.0,...</td>\n",
       "      <td>[[0.0, 0.0, 0.0, 0.0, 0.0, 0.0, 0.0, 0.0, 0.0,...</td>\n",
       "      <td>[[0, 0, 0, 0, 0, 0, 0, 0, 0, 0, 0, 0, 0, 0, 0,...</td>\n",
       "      <td>[[2, 3, 3, 4, 4, 4, 4, 5, 5, 5, 5, 5, 6, 6, 6,...</td>\n",
       "      <td>[[846, 136], [845, 137], [844, 137], [843, 137...</td>\n",
       "      <td>(179.149, 847.657)</td>\n",
       "      <td>&lt;skan.csr.Skeleton object at 0x000001A188B62A40&gt;</td>\n",
       "      <td>[((831.057, 8.057), (834.943, 11.943)), ((838....</td>\n",
       "    </tr>\n",
       "    <tr>\n",
       "      <th>1</th>\n",
       "      <td>MAX_38_IF6_CHO_L-W5_Z_decon_ch02_PS.tif</td>\n",
       "      <td>38</td>\n",
       "      <td>No transfection</td>\n",
       "      <td>[[False, False, False, False, False, False, Fa...</td>\n",
       "      <td>[[0, 0, 0, 0, 0, 0, 0, 0, 0, 0, 0, 0, 0, 0, 0,...</td>\n",
       "      <td>[[0.0, 0.0, 0.0, 0.0, 0.0, 0.0, 0.0, 0.0, 0.0,...</td>\n",
       "      <td>[[0.0, 0.0, 0.0, 0.0, 0.0, 0.0, 0.0, 0.0, 0.0,...</td>\n",
       "      <td>[[0, 0, 0, 0, 0, 0, 0, 0, 0, 0, 0, 0, 0, 0, 0,...</td>\n",
       "      <td>[[565, 565, 565, 565, 565, 566, 566, 566, 566,...</td>\n",
       "      <td>[[1158, 607], [1157, 608], [1156, 608], [1155,...</td>\n",
       "      <td>(634.605, 1142.831)</td>\n",
       "      <td>&lt;skan.csr.Skeleton object at 0x000001A188B60C10&gt;</td>\n",
       "      <td>[((1183.139, 573.819), (1185.861, 575.181)), (...</td>\n",
       "    </tr>\n",
       "    <tr>\n",
       "      <th>2</th>\n",
       "      <td>MAX_38_IF6_CHO_L-W5_Z_decon_ch02_PS.tif</td>\n",
       "      <td>38</td>\n",
       "      <td>No transfection</td>\n",
       "      <td>[[False, False, False, False, False, False, Fa...</td>\n",
       "      <td>[[0, 0, 0, 0, 0, 0, 0, 0, 0, 0, 0, 0, 0, 0, 0,...</td>\n",
       "      <td>[[0.0, 0.0, 0.0, 0.0, 0.0, 0.0, 0.0, 0.0, 0.0,...</td>\n",
       "      <td>[[0.0, 0.0, 0.0, 0.0, 0.0, 0.0, 0.0, 0.0, 0.0,...</td>\n",
       "      <td>[[0, 0, 0, 0, 0, 0, 0, 0, 0, 0, 0, 0, 0, 0, 0,...</td>\n",
       "      <td>[[12, 12, 12, 13, 13, 13, 13, 13, 14, 14, 14, ...</td>\n",
       "      <td>[[846, 136], [845, 137], [844, 137], [843, 137...</td>\n",
       "      <td>(179.149, 847.657)</td>\n",
       "      <td>&lt;skan.csr.Skeleton object at 0x000001A188B60FD0&gt;</td>\n",
       "      <td>[((835.713, 14.957), (834.826, 17.913)), ((834...</td>\n",
       "    </tr>\n",
       "    <tr>\n",
       "      <th>3</th>\n",
       "      <td>MAX_38_IF6_CHO_L-W5_Z_decon_ch02_PS.tif</td>\n",
       "      <td>38</td>\n",
       "      <td>No transfection</td>\n",
       "      <td>[[False, False, False, False, False, False, Fa...</td>\n",
       "      <td>[[0, 0, 0, 0, 0, 0, 0, 0, 0, 0, 0, 0, 0, 0, 0,...</td>\n",
       "      <td>[[0.0, 0.0, 0.13825933250494407, 0.0, 0.0, 0.0...</td>\n",
       "      <td>[[0.0, 0.0, 0.0, 0.0, 0.0, 0.0, 0.0, 0.0, 0.0,...</td>\n",
       "      <td>[[0, 0, 0, 0, 0, 0, 0, 0, 0, 0, 0, 0, 0, 0, 0,...</td>\n",
       "      <td>[[27, 28, 28, 29, 29, 29, 30, 30, 30, 30, 31, ...</td>\n",
       "      <td>[[880, 120], [879, 121], [878, 121], [877, 122...</td>\n",
       "      <td>(160.291, 893.033)</td>\n",
       "      <td>&lt;skan.csr.Skeleton object at 0x000001A188B61990&gt;</td>\n",
       "      <td>[((852.558, 32.635), (862.383, 43.522)), ((866...</td>\n",
       "    </tr>\n",
       "    <tr>\n",
       "      <th>4</th>\n",
       "      <td>MAX_38_IF6_CHO_L-W5_Z_decon_ch02_PS.tif</td>\n",
       "      <td>38</td>\n",
       "      <td>No transfection</td>\n",
       "      <td>[[False, False, False, False, False, False, Fa...</td>\n",
       "      <td>[[0, 0, 0, 0, 0, 0, 0, 0, 0, 0, 0, 0, 0, 0, 0,...</td>\n",
       "      <td>[[0.0, 0.0004217225449038664, 0.0, 0.0, 0.0, 0...</td>\n",
       "      <td>[[0.0, 0.0, 0.0, 0.0, 0.0, 0.0, 0.0, 0.0, 0.0,...</td>\n",
       "      <td>[[0, 0, 0, 0, 0, 0, 0, 0, 0, 0, 0, 0, 0, 0, 0,...</td>\n",
       "      <td>[[71, 72, 72, 73, 73, 73, 74, 74, 74, 74, 75, ...</td>\n",
       "      <td>[[937, 143], [937, 144], [936, 145], [935, 145...</td>\n",
       "      <td>(191.66, 941.322)</td>\n",
       "      <td>&lt;skan.csr.Skeleton object at 0x000001A188B61FF0&gt;</td>\n",
       "      <td>[((894.753, 97.268), (898.838, 102.033)), ((90...</td>\n",
       "    </tr>\n",
       "  </tbody>\n",
       "</table>\n",
       "</div>"
      ],
      "text/plain": [
       "                                      Name Img Index            Label  \\\n",
       "0  MAX_38_IF6_CHO_L-W5_Z_decon_ch02_PS.tif        38  No transfection   \n",
       "1  MAX_38_IF6_CHO_L-W5_Z_decon_ch02_PS.tif        38  No transfection   \n",
       "2  MAX_38_IF6_CHO_L-W5_Z_decon_ch02_PS.tif        38  No transfection   \n",
       "3  MAX_38_IF6_CHO_L-W5_Z_decon_ch02_PS.tif        38  No transfection   \n",
       "4  MAX_38_IF6_CHO_L-W5_Z_decon_ch02_PS.tif        38  No transfection   \n",
       "\n",
       "                                                Mask  \\\n",
       "0  [[False, False, False, False, False, False, Fa...   \n",
       "1  [[False, False, False, False, False, False, Fa...   \n",
       "2  [[False, False, False, False, False, False, Fa...   \n",
       "3  [[False, False, False, False, False, False, Fa...   \n",
       "4  [[False, False, False, False, False, False, Fa...   \n",
       "\n",
       "                                      Patch:Skeleton  \\\n",
       "0  [[0, 0, 0, 0, 0, 0, 0, 0, 0, 0, 0, 0, 0, 0, 0,...   \n",
       "1  [[0, 0, 0, 0, 0, 0, 0, 0, 0, 0, 0, 0, 0, 0, 0,...   \n",
       "2  [[0, 0, 0, 0, 0, 0, 0, 0, 0, 0, 0, 0, 0, 0, 0,...   \n",
       "3  [[0, 0, 0, 0, 0, 0, 0, 0, 0, 0, 0, 0, 0, 0, 0,...   \n",
       "4  [[0, 0, 0, 0, 0, 0, 0, 0, 0, 0, 0, 0, 0, 0, 0,...   \n",
       "\n",
       "                             Patch:Deconvoluted Cyto  \\\n",
       "0  [[0.0, 0.0, 0.0, 0.0, 0.0, 0.0, 0.0, 0.0, 0.0,...   \n",
       "1  [[0.0, 0.0, 0.0, 0.0, 0.0, 0.0, 0.0, 0.0, 0.0,...   \n",
       "2  [[0.0, 0.0, 0.0, 0.0, 0.0, 0.0, 0.0, 0.0, 0.0,...   \n",
       "3  [[0.0, 0.0, 0.13825933250494407, 0.0, 0.0, 0.0...   \n",
       "4  [[0.0, 0.0004217225449038664, 0.0, 0.0, 0.0, 0...   \n",
       "\n",
       "                             Patch:Deconvoluted Nucl  \\\n",
       "0  [[0.0, 0.0, 0.0, 0.0, 0.0, 0.0, 0.0, 0.0, 0.0,...   \n",
       "1  [[0.0, 0.0, 0.0, 0.0, 0.0, 0.0, 0.0, 0.0, 0.0,...   \n",
       "2  [[0.0, 0.0, 0.0, 0.0, 0.0, 0.0, 0.0, 0.0, 0.0,...   \n",
       "3  [[0.0, 0.0, 0.0, 0.0, 0.0, 0.0, 0.0, 0.0, 0.0,...   \n",
       "4  [[0.0, 0.0, 0.0, 0.0, 0.0, 0.0, 0.0, 0.0, 0.0,...   \n",
       "\n",
       "                                  Patch:Skeleton Max  \\\n",
       "0  [[0, 0, 0, 0, 0, 0, 0, 0, 0, 0, 0, 0, 0, 0, 0,...   \n",
       "1  [[0, 0, 0, 0, 0, 0, 0, 0, 0, 0, 0, 0, 0, 0, 0,...   \n",
       "2  [[0, 0, 0, 0, 0, 0, 0, 0, 0, 0, 0, 0, 0, 0, 0,...   \n",
       "3  [[0, 0, 0, 0, 0, 0, 0, 0, 0, 0, 0, 0, 0, 0, 0,...   \n",
       "4  [[0, 0, 0, 0, 0, 0, 0, 0, 0, 0, 0, 0, 0, 0, 0,...   \n",
       "\n",
       "                                              Offset  \\\n",
       "0  [[2, 3, 3, 4, 4, 4, 4, 5, 5, 5, 5, 5, 6, 6, 6,...   \n",
       "1  [[565, 565, 565, 565, 565, 566, 566, 566, 566,...   \n",
       "2  [[12, 12, 12, 13, 13, 13, 13, 13, 14, 14, 14, ...   \n",
       "3  [[27, 28, 28, 29, 29, 29, 30, 30, 30, 30, 31, ...   \n",
       "4  [[71, 72, 72, 73, 73, 73, 74, 74, 74, 74, 75, ...   \n",
       "\n",
       "                                     Nucleus Contour     Nucleus Centroid  \\\n",
       "0  [[846, 136], [845, 137], [844, 137], [843, 137...   (179.149, 847.657)   \n",
       "1  [[1158, 607], [1157, 608], [1156, 608], [1155,...  (634.605, 1142.831)   \n",
       "2  [[846, 136], [845, 137], [844, 137], [843, 137...   (179.149, 847.657)   \n",
       "3  [[880, 120], [879, 121], [878, 121], [877, 122...   (160.291, 893.033)   \n",
       "4  [[937, 143], [937, 144], [936, 145], [935, 145...    (191.66, 941.322)   \n",
       "\n",
       "                                              Graph  \\\n",
       "0  <skan.csr.Skeleton object at 0x000001A188B62A40>   \n",
       "1  <skan.csr.Skeleton object at 0x000001A188B60C10>   \n",
       "2  <skan.csr.Skeleton object at 0x000001A188B60FD0>   \n",
       "3  <skan.csr.Skeleton object at 0x000001A188B61990>   \n",
       "4  <skan.csr.Skeleton object at 0x000001A188B61FF0>   \n",
       "\n",
       "                                               Lines  \n",
       "0  [((831.057, 8.057), (834.943, 11.943)), ((838....  \n",
       "1  [((1183.139, 573.819), (1185.861, 575.181)), (...  \n",
       "2  [((835.713, 14.957), (834.826, 17.913)), ((834...  \n",
       "3  [((852.558, 32.635), (862.383, 43.522)), ((866...  \n",
       "4  [((894.753, 97.268), (898.838, 102.033)), ((90...  "
      ]
     },
     "execution_count": 32,
     "metadata": {},
     "output_type": "execute_result"
    }
   ],
   "source": [
    "ResultsDF = df_processing_cell(data   = data,\n",
    "                               ROIsDF = ROIs,\n",
    "                               params = {'res_thr': 4 })"
   ]
  },
  {
   "cell_type": "markdown",
   "id": "0bc074dd",
   "metadata": {},
   "source": [
    "# Plot Processed Cells"
   ]
  },
  {
   "cell_type": "code",
   "execution_count": 9,
   "id": "de776325",
   "metadata": {},
   "outputs": [
    {
     "name": "stderr",
     "output_type": "stream",
     "text": [
      "C:\\Users\\diogo\\OneDrive - Universidade de Lisboa\\Ambiente de Trabalho\\CYSK_Workspace\\CYSK\\framework\\visualization.py:197: UserWarning: Matplotlib is currently using module://matplotlib_inline.backend_inline, which is a non-GUI backend, so cannot show the figure.\n",
      "  fig.show()\n",
      "C:\\Users\\diogo\\OneDrive - Universidade de Lisboa\\Ambiente de Trabalho\\CYSK_Workspace\\CYSK\\framework\\visualization.py:240: UserWarning: Matplotlib is currently using module://matplotlib_inline.backend_inline, which is a non-GUI backend, so cannot show the figure.\n",
      "  fig.show()\n"
     ]
    },
    {
     "name": "stdout",
     "output_type": "stream",
     "text": [
      "Done.\n"
     ]
    },
    {
     "data": {
      "image/png": "[encoded data removed]",
      "text/plain": [
       "<Figure size 800x800 with 1 Axes>"
      ]
     },
     "metadata": {},
     "output_type": "display_data"
    },
    {
     "data": {
      "image/png": "[encoded data removed]",
      "text/plain": [
       "<Figure size 800x800 with 2 Axes>"
      ]
     },
     "metadata": {},
     "output_type": "display_data"
    }
   ],
   "source": [
    "intensity_plotter(ResultsRow=ResultsDF.loc[0],data=data,save=False)    "
   ]
  },
  {
   "cell_type": "code",
   "execution_count": 10,
   "id": "edb3a609",
   "metadata": {},
   "outputs": [
    {
     "name": "stdout",
     "output_type": "stream",
     "text": [
      "Done.\n"
     ]
    },
    {
     "name": "stderr",
     "output_type": "stream",
     "text": [
      "C:\\Users\\diogo\\OneDrive - Universidade de Lisboa\\Ambiente de Trabalho\\CYSK_Workspace\\CYSK\\framework\\visualization.py:319: UserWarning: Matplotlib is currently using module://matplotlib_inline.backend_inline, which is a non-GUI backend, so cannot show the figure.\n",
      "  fig.show()\n"
     ]
    },
    {
     "data": {
      "image/png": "[encoded data removed]",
      "text/plain": [
       "<Figure size 640x480 with 1 Axes>"
      ]
     },
     "metadata": {},
     "output_type": "display_data"
    }
   ],
   "source": [
    "cmap     = pltc.rainbow\n",
    "cm       = truncate_colormap(cmap, 0, 1, 300)\n",
    "\n",
    "line_plotter(ResultsRow = ResultsDF.loc[0],\n",
    "             data=data,\n",
    "             feat=None,\n",
    "             cmap=cm,\n",
    "             normalize_bounds=1,\n",
    "             colorbar_label=None,\n",
    "             line_data_origin = 'Lines',\n",
    "             overlay=True,\n",
    "             save=False)"
   ]
  },
  {
   "cell_type": "code",
   "execution_count": 11,
   "id": "bcb2b066",
   "metadata": {},
   "outputs": [
    {
     "name": "stdout",
     "output_type": "stream",
     "text": [
      "Done.\n"
     ]
    },
    {
     "name": "stderr",
     "output_type": "stream",
     "text": [
      "C:\\Users\\diogo\\OneDrive - Universidade de Lisboa\\Ambiente de Trabalho\\CYSK_Workspace\\CYSK\\framework\\visualization.py:460: UserWarning: Matplotlib is currently using module://matplotlib_inline.backend_inline, which is a non-GUI backend, so cannot show the figure.\n",
      "  fig.show()\n"
     ]
    },
    {
     "data": {
      "image/png": "[encoded data removed]",
      "text/plain": [
       "<Figure size 640x480 with 1 Axes>"
      ]
     },
     "metadata": {},
     "output_type": "display_data"
    }
   ],
   "source": [
    "cmap     = pltc.rainbow\n",
    "cm       = truncate_colormap(cmap, 0, 1, 300)\n",
    "\n",
    "graph_plotter(ResultsRow       = ResultsDF.loc[0],\n",
    "              data             = data,\n",
    "              feat             = None,\n",
    "              cmap             = cm,\n",
    "              normalize_bounds = 'default',\n",
    "              colorbar_label   = None,\n",
    "              nodes            = True,\n",
    "              main_branch      = False,\n",
    "              overlay          = None,\n",
    "              scalebar         = False,\n",
    "              save             = False)"
   ]
  },
  {
   "cell_type": "code",
   "execution_count": null,
   "id": "2dc17ea5",
   "metadata": {},
   "outputs": [],
   "source": []
  }
 ],
 "metadata": {
  "kernelspec": {
   "display_name": "Python 3 (ipykernel)",
   "language": "python",
   "name": "python3"
  },
  "language_info": {
   "codemirror_mode": {
    "name": "ipython",
    "version": 3
   },
   "file_extension": ".py",
   "mimetype": "text/x-python",
   "name": "python",
   "nbconvert_exporter": "python",
   "pygments_lexer": "ipython3",
   "version": "3.10.9"
  }
 },
 "nbformat": 4,
 "nbformat_minor": 5
}
