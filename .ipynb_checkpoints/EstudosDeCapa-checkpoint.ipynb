{
 "cells": [
  {
   "cell_type": "code",
   "execution_count": null,
   "id": "ddf28266",
   "metadata": {},
   "outputs": [],
   "source": [
    "t = 1-skeleton*1\n",
    "xxxx,yyyy = np.where(t != 1)\n",
    "tx = t[min(xxxx):max(xxxx),min(yyyy):max(yyyy)]\n",
    "\n",
    "plt.imshow(tx,cmap='gray')\n",
    "plt.axis('off')\n",
    "plt.show()"
   ]
  },
  {
   "cell_type": "code",
   "execution_count": null,
   "id": "b783cd17",
   "metadata": {},
   "outputs": [],
   "source": [
    "plt.imshow(1-patch,cmap='Reds_r')\n",
    "#plt.savefig(\".//estudoscapatese//teste4.png\",format='png',transparent=True,bbox_inches='tight',dpi=500)"
   ]
  }
 ],
 "metadata": {
  "kernelspec": {
   "display_name": "Python 3 (ipykernel)",
   "language": "python",
   "name": "python3"
  },
  "language_info": {
   "codemirror_mode": {
    "name": "ipython",
    "version": 3
   },
   "file_extension": ".py",
   "mimetype": "text/x-python",
   "name": "python",
   "nbconvert_exporter": "python",
   "pygments_lexer": "ipython3",
   "version": "3.7.11"
  }
 },
 "nbformat": 4,
 "nbformat_minor": 5
}
