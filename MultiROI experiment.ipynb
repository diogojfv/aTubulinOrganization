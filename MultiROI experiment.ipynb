{
 "cells": [
  {
   "cell_type": "code",
   "execution_count": 2,
   "id": "efa905bb",
   "metadata": {},
   "outputs": [
    {
     "name": "stdout",
     "output_type": "stream",
     "text": [
      "📚 All libraries successfully imported **(for ROI selection)** 📚\n"
     ]
    }
   ],
   "source": [
    "from framework.Importing import label_image,init_import\n",
    "import os\n",
    "import numpy as np\n",
    "import pandas as pd\n",
    "import matplotlib.pyplot as plt\n",
    "from roipoly import RoiPoly\n",
    "import pickle\n",
    "\n",
    "print('📚 All libraries successfully imported **(for ROI selection)** 📚')"
   ]
  },
  {
   "cell_type": "code",
   "execution_count": 3,
   "id": "a9a7a19e",
   "metadata": {},
   "outputs": [
    {
     "name": "stdout",
     "output_type": "stream",
     "text": [
      ">>> [3D] added.\n"
     ]
    }
   ],
   "source": [
    "### DATASET #1 (2D)\n",
    "# folder    = os.path.dirname(os.getcwd()) + \"\\\\Datasets\\\\Set 1-a-tubulin_Sofia\"\n",
    "# options   = [\"RGB\",\"CYTO_DECONV\",\"NUCL_DECONV\"]\n",
    "\n",
    "### DATASET #2 (3D)\n",
    "#folder    = os.path.dirname(os.getcwd()) + \"\\\\Datasets\\\\Set 3D\"\n",
    "#options   = [\"3D\"]\n",
    "\n",
    "### DATASET #3 (Soraia)\n",
    "folder    = os.path.dirname(os.getcwd()) + \"\\\\Datasets\\\\Soraia\"\n",
    "#options   = [\"CYTO_DECONV\",\"NUCL_DECONV\"]\n",
    "options   = [\"3D\"] #use this for roi selection\n",
    "\n",
    "### DATASET #4 (Inês)\n",
    "# folder    = os.path.dirname(os.getcwd()) + \"\\\\Datasets\\\\Ines\"\n",
    "#options     = [\"CYTO_DECONV\"]\n",
    "\n",
    "\n",
    "data = init_import(folder,options)\n",
    "#data['NUCL_PRE'] = pd.read_pickle(folder + \"\\\\NUCL_PRE\\\\NUCL_PRE.pkl\") # pd.read_pickle(os.getcwd() + \"\\\\NUCL_PRE_2D_StarDist.pkl\") #\n",
    "#data['CYTO_PRE'] = pd.read_pickle(folder + \"\\\\CYTO_PRE\\\\CYTO_PRE.pkl\")  "
   ]
  },
  {
   "cell_type": "markdown",
   "id": "d3f4bb87",
   "metadata": {},
   "source": [
    "# MULTIROI EXPERIMENT"
   ]
  },
  {
   "cell_type": "code",
   "execution_count": 6,
   "id": "fee5c115",
   "metadata": {},
   "outputs": [
    {
     "name": "stderr",
     "output_type": "stream",
     "text": [
      "WARNING MainProcess : 2023-05-30 13:45:06,434 image.set_data:722 Clipping input data to the valid range for imshow with RGB data ([0..1] for floats or [0..255] for integers).\n"
     ]
    }
   ],
   "source": [
    "import logging\n",
    "import pandas as pd\n",
    "import numpy as np\n",
    "from matplotlib import pyplot as plt\n",
    "from roipoly import MultiRoi\n",
    "%matplotlib qt\n",
    "\n",
    "logging.basicConfig(format='%(levelname)s ''%(processName)-10s : %(asctime)s ''%(module)s.%(funcName)s:%(lineno)s %(message)s',level=logging.INFO)\n",
    "\n",
    "img_id = 12\n",
    "\n",
    "ROIsDF    = pd.DataFrame(columns = ['Name','Index','Label','ROImask'])\n",
    "if type(ROIsDF) != pd.core.frame.DataFrame:\n",
    "    ROIsDF    = pd.DataFrame(columns = ['Name','Index','Label','ROImask'])\n",
    "\n",
    "# Create image\n",
    "img = data['3D']['Image'][img_id]\n",
    "mult = np.stack([1.8*data['3D']['Image'][img_id]/np.max(data['3D']['Image'][img_id]),1.8*data['3D']['Image'][img_id-1]/np.max(data['3D']['Image'][img_id-1]),1*data['3D']['Image'][img_id-2]/np.max(data['3D']['Image'][img_id-2])],axis=2)\n",
    "\n",
    "# Show the image\n",
    "fig = plt.figure(figsize=(30,30))\n",
    "plt.imshow(mult, interpolation='nearest', cmap=\"Greys\")\n",
    "figManager = plt.get_current_fig_manager()\n",
    "figManager.window.showMaximized()\n",
    "\n",
    "# Draw multiple ROIs\n",
    "multiROI = MultiRoi(roi_names=['Cell ' + str(i) for i in range(1,30)])\n",
    "\n",
    "# Obtain ROIs\n",
    "roi_names = []\n",
    "masks = []\n",
    "for name, roi in multiROI.rois.items():\n",
    "    masks += [roi.get_mask(img)]\n",
    "    roi_names += [name]"
   ]
  },
  {
   "cell_type": "code",
   "execution_count": null,
   "id": "31b6d33b",
   "metadata": {},
   "outputs": [
    {
     "name": "stderr",
     "output_type": "stream",
     "text": [
      "WARNING MainProcess : 2023-05-30 13:26:50,198 image.set_data:722 Clipping input data to the valid range for imshow with RGB data ([0..1] for floats or [0..255] for integers).\n",
      "WARNING MainProcess : 2023-05-30 13:26:56,260 image.set_data:722 Clipping input data to the valid range for imshow with RGB data ([0..1] for floats or [0..255] for integers).\n"
     ]
    }
   ],
   "source": [
    "global ROI\n",
    "import copy\n",
    "import logging\n",
    "from roipoly import MultiRoi\n",
    "ROIsDF    = pd.DataFrame(columns = ['Name','Index','Label','ROImask'])\n",
    "if type(ROIsDF) != pd.core.frame.DataFrame:\n",
    "    ROIsDF    = pd.DataFrame(columns = ['Name','Index','Label','ROImask'])\n",
    "\n",
    "logging.basicConfig(format='%(levelname)s ''%(processName)-10s : %(asctime)s '\n",
    "                           '%(module)s.%(funcName)s:%(lineno)s %(message)s',\n",
    "                    level=logging.INFO)    \n",
    "\n",
    "\n",
    "ROIsDF_ = copy.deepcopy(ROIsDF)\n",
    "img_id = 12\n",
    "%matplotlib qt\n",
    "while 1:\n",
    "#     try:\n",
    "        plt.close('all')\n",
    "\n",
    "        # Original Image\n",
    "        img = data['3D']['Image'][img_id]\n",
    "        mult = np.stack([1.8*data['3D']['Image'][img_id]/np.max(data['3D']['Image'][img_id]),1.8*data['3D']['Image'][img_id-1]/np.max(data['3D']['Image'][img_id-1]),1*data['3D']['Image'][img_id-2]/np.max(data['3D']['Image'][img_id-2])],axis=2)\n",
    "\n",
    "\n",
    "        # Select ROI QT\n",
    "        #%matplotlib qt\n",
    "        fig,ax = plt.subplots(figsize=(30,30))\n",
    "        plt.imshow(mult)\n",
    "        plt.axis('off')\n",
    "        # Plot Contours\n",
    "        #plot_nuclei_contours(CentroidsDF=Centroids,imgIndex=img_id,ax=ax)\n",
    "        # Define ROI\n",
    "\n",
    "        multiROI = MultiRoi(roi_names=['roi1','roi2'])\n",
    "        #ROI.display_roi()\n",
    "        #global mask,roi_coordinates\n",
    "        #roi_coordinates = ROI.get_roi_coordinates()\n",
    "        #mask = ROI.get_mask(img)\n",
    "        \n",
    "        \n",
    "        roi_names = []\n",
    "        masks = []\n",
    "        for name, roi in multiROI.rois.items():\n",
    "            masks += [roi.get_mask(img)]\n",
    "            roi_names += [name]\n",
    "            #roi.display_roi()\n",
    "            #roi.display_mean(img)\n",
    "            #roi_names.append(name)\n",
    "\n",
    "        # Save ROI\n",
    "        #new = pd.DataFrame(data = {'Name': [data['Name'][img_id]],'Index': [img_id], 'Label': [data['Label'][img_id]], 'ROImask': [mask]})\n",
    "        #ROIsDF_ = pd.concat([ROIsDF_, new], axis=0,ignore_index=True)\n",
    "\n",
    "\n",
    "        plt.show()\n",
    "#     except Exception as e:\n",
    "#         print('Window closed')\n",
    "#         print(e)\n",
    "#         #return ROIsDF_\n",
    "        \n"
   ]
  },
  {
   "cell_type": "code",
   "execution_count": 1,
   "id": "c5701e29",
   "metadata": {},
   "outputs": [],
   "source": [
    "%matplotlib qt"
   ]
  },
  {
   "cell_type": "code",
   "execution_count": 2,
   "id": "b7f9f810",
   "metadata": {},
   "outputs": [],
   "source": [
    "import logging\n",
    "\n",
    "import numpy as np\n",
    "from matplotlib import pyplot as plt\n",
    "\n",
    "from roipoly import MultiRoi\n",
    "\n",
    "logging.basicConfig(format='%(levelname)s ''%(processName)-10s : %(asctime)s '\n",
    "                           '%(module)s.%(funcName)s:%(lineno)s %(message)s',\n",
    "                    level=logging.INFO)\n",
    "\n",
    "# Create image\n",
    "img = np.ones((100, 100)) * range(0, 100)\n",
    "\n",
    "# Show the image\n",
    "fig = plt.figure()\n",
    "plt.imshow(img, interpolation='nearest', cmap=\"Greys\")\n",
    "plt.title(\"Click on the button to add a new ROI\")\n",
    "\n",
    "# Draw multiple ROIs\n",
    "multiroi_named = MultiRoi(roi_names=['My first ROI', 'My second ROI'])\n",
    "\n",
    "# Draw all ROIs\n",
    "plt.imshow(img, interpolation='nearest', cmap=\"Greys\")\n",
    "roi_names = []\n",
    "for name, roi in multiroi_named.rois.items():\n",
    "    roi.display_roi()\n",
    "    roi.display_mean(img)\n",
    "    roi_names.append(name)\n",
    "plt.legend(roi_names, bbox_to_anchor=(1.2, 1.05))\n",
    "plt.show()\n"
   ]
  },
  {
   "cell_type": "code",
   "execution_count": 3,
   "id": "fd49aa92",
   "metadata": {},
   "outputs": [],
   "source": [
    "img_id = 11\n",
    "img_ids = 10,11,12\n",
    "df = data['3D']"
   ]
  },
  {
   "cell_type": "code",
   "execution_count": 45,
   "id": "e134e4b1",
   "metadata": {
    "scrolled": true
   },
   "outputs": [
    {
     "name": "stdout",
     "output_type": "stream",
     "text": [
      "\n",
      "Note: you may need to restart the kernel to use updated packages.\n"
     ]
    },
    {
     "name": "stderr",
     "output_type": "stream",
     "text": [
      "C:\\Users\\diogo\\anaconda3\\envs\\ROIselection4\\python.exe: can't find '__main__' module in 'C:\\\\Users\\\\diogo\\\\OneDrive'\n",
      "\n",
      "\n",
      "ERROR conda.cli.main_run:execute(47): `conda run python C:\\Users\\diogo\\OneDrive - Universidade de Lisboa\\Ambiente de Trabalho\\CYSK_Workspace\\CYSK\\framework\\manual_segmentation.py` failed. (See above for error)\n"
     ]
    }
   ],
   "source": [
    "conda run -n ROIselection4 python 'C:\\Users\\diogo\\OneDrive - Universidade de Lisboa\\Ambiente de Trabalho\\CYSK_Workspace\\CYSK\\framework\\manual_segmentation.py'"
   ]
  },
  {
   "cell_type": "code",
   "execution_count": null,
   "id": "1f740cd5",
   "metadata": {},
   "outputs": [
    {
     "name": "stderr",
     "output_type": "stream",
     "text": [
      "Clipping input data to the valid range for imshow with RGB data ([0..1] for floats or [0..255] for integers).\n"
     ]
    }
   ],
   "source": [
    "import os\n",
    "import pandas as pd\n",
    "import matplotlib.pyplot as plt\n",
    "from roipoly import RoiPoly\n",
    "%matplotlib qt\n",
    "\n",
    "# Create an empty dataframe to store the ROI information\n",
    "ROIs = pd.DataFrame(columns=['Name', 'Index', 'Label', 'ROImask'])\n",
    "\n",
    "# Loop to select multiple ROIs\n",
    "while True:\n",
    "    plt.close('all')\n",
    "\n",
    "    # Load and preprocess the image\n",
    "    img = df['Image'][img_id]\n",
    "    mult = np.stack([1.8 * df['Image'][12] / np.max(df['Image'][12]),\n",
    "                     1.8 * df['Image'][11] / np.max(df['Image'][11]),\n",
    "                     1 * df['Image'][10] / np.max(df['Image'][10])], axis=2)\n",
    "\n",
    "    # Display the image\n",
    "    fig, ax = plt.subplots(figsize=(30, 30))\n",
    "    ax.imshow(mult)\n",
    "    ax.axis('off')\n",
    "\n",
    "    # Use RoiPoly to select the ROI polygon\n",
    "    ROI = RoiPoly(color='r')\n",
    "\n",
    "    # Get the mask of the selected ROI\n",
    "    mask = ROI.get_mask(img)\n",
    "\n",
    "    # Store the ROI information in the dataframe\n",
    "    new = pd.DataFrame(data={'Name': [df['Name'][img_id]], 'Index': [img_id], 'Label': [df['Label'][img_id]], 'ROImask': [mask]})\n",
    "    ROIs = ROIs.append(new, ignore_index=True)\n",
    "\n",
    "    # Close the current plot\n",
    "    plt.close()\n",
    "\n",
    "    # Prompt the user to continue selecting ROIs or exit the loop\n",
    "    choice = input(\"Do you want to select another ROI? (y/n): \")\n",
    "    if choice.lower() != 'y':\n",
    "        break\n"
   ]
  },
  {
   "cell_type": "code",
   "execution_count": null,
   "id": "bf757415",
   "metadata": {},
   "outputs": [],
   "source": []
  },
  {
   "cell_type": "code",
   "execution_count": 4,
   "id": "0298bd5a",
   "metadata": {},
   "outputs": [],
   "source": [
    "def roi_selector(data,img_id,ROIsDF):\n",
    "    global ROI\n",
    "    import copy\n",
    "    print('🔎')\n",
    "    \n",
    "    if type(ROIsDF) != pd.core.frame.DataFrame:\n",
    "        ROIsDF    = pd.DataFrame(columns = ['Name','Index','Label','ROImask'])\n",
    "       \n",
    "    ROIsDF_ = copy.deepcopy(ROIsDF)\n",
    "    \n",
    "    while 1:\n",
    "        try:\n",
    "            plt.close('all')\n",
    "\n",
    "            # Original Image\n",
    "            img = data['Image'][img_id]\n",
    "            mult = np.stack([1.8*data['Image'][12]/np.max(data['Image'][12]),1.8*data['Image'][11]/np.max(data['Image'][11]),1*df['Image'][10]/np.max(df['Image'][10])],axis=2)\n",
    "\n",
    "\n",
    "            # Select ROI QT\n",
    "            %matplotlib qt\n",
    "            fig,ax = plt.subplots(figsize=(30,30))\n",
    "            plt.imshow(mult)\n",
    "            plt.axis('off')\n",
    "            # Plot Contours\n",
    "            #plot_nuclei_contours(CentroidsDF=Centroids,imgIndex=img_id,ax=ax)\n",
    "            # Define ROI\n",
    "\n",
    "            ROI = RoiPoly(color='r')\n",
    "            #ROI.display_roi()\n",
    "            #global mask,roi_coordinates\n",
    "            #roi_coordinates = ROI.get_roi_coordinates()\n",
    "            mask = ROI.get_mask(img)\n",
    "\n",
    "            # Save ROI\n",
    "            new = pd.DataFrame(data = {'Name': [df['Name'][img_id]],'Index': [img_id], 'Label': [df['Label'][img_id]], 'ROImask': [mask]})\n",
    "            ROIsDF_ = pd.concat([ROIsDF_, new], axis=0,ignore_index=True)\n",
    "\n",
    "\n",
    "            plt.show()\n",
    "        except Exception as e:\n",
    "            print('Window closed')\n",
    "            print(e)\n",
    "            return ROIsDF_\n",
    "            \n",
    "    "
   ]
  },
  {
   "cell_type": "code",
   "execution_count": null,
   "id": "c30bb970",
   "metadata": {},
   "outputs": [
    {
     "name": "stderr",
     "output_type": "stream",
     "text": [
      "Clipping input data to the valid range for imshow with RGB data ([0..1] for floats or [0..255] for integers).\n"
     ]
    },
    {
     "name": "stdout",
     "output_type": "stream",
     "text": [
      "🔎\n"
     ]
    }
   ],
   "source": [
    "ROIs2 = roi_selector(data['3D'],12,None)"
   ]
  },
  {
   "cell_type": "code",
   "execution_count": 13,
   "id": "59c363c2",
   "metadata": {},
   "outputs": [],
   "source": [
    "ROIs    = pd.DataFrame(columns = ['Name','Index','Label','ROImask'])"
   ]
  },
  {
   "cell_type": "code",
   "execution_count": 16,
   "id": "e5ab7a6c",
   "metadata": {},
   "outputs": [
    {
     "data": {
      "text/html": [
       "<div>\n",
       "<style scoped>\n",
       "    .dataframe tbody tr th:only-of-type {\n",
       "        vertical-align: middle;\n",
       "    }\n",
       "\n",
       "    .dataframe tbody tr th {\n",
       "        vertical-align: top;\n",
       "    }\n",
       "\n",
       "    .dataframe thead th {\n",
       "        text-align: right;\n",
       "    }\n",
       "</style>\n",
       "<table border=\"1\" class=\"dataframe\">\n",
       "  <thead>\n",
       "    <tr style=\"text-align: right;\">\n",
       "      <th></th>\n",
       "      <th>Name</th>\n",
       "      <th>Index</th>\n",
       "      <th>Label</th>\n",
       "      <th>ROImask</th>\n",
       "    </tr>\n",
       "  </thead>\n",
       "  <tbody>\n",
       "    <tr>\n",
       "      <th>0</th>\n",
       "      <td>MAX_12_AGSGatw_2245-0002_decon__ch02_PS.tif</td>\n",
       "      <td>12</td>\n",
       "      <td>2245</td>\n",
       "      <td>[[False, False, False, False, False, False, Fa...</td>\n",
       "    </tr>\n",
       "    <tr>\n",
       "      <th>1</th>\n",
       "      <td>MAX_12_AGSGatw_2245-0002_decon__ch02_PS.tif</td>\n",
       "      <td>12</td>\n",
       "      <td>2245</td>\n",
       "      <td>[[False, False, False, False, False, False, Fa...</td>\n",
       "    </tr>\n",
       "  </tbody>\n",
       "</table>\n",
       "</div>"
      ],
      "text/plain": [
       "                                          Name Index Label  \\\n",
       "0  MAX_12_AGSGatw_2245-0002_decon__ch02_PS.tif    12  2245   \n",
       "1  MAX_12_AGSGatw_2245-0002_decon__ch02_PS.tif    12  2245   \n",
       "\n",
       "                                             ROImask  \n",
       "0  [[False, False, False, False, False, False, Fa...  \n",
       "1  [[False, False, False, False, False, False, Fa...  "
      ]
     },
     "execution_count": 16,
     "metadata": {},
     "output_type": "execute_result"
    }
   ],
   "source": [
    "ROIs2"
   ]
  },
  {
   "cell_type": "code",
   "execution_count": 11,
   "id": "7303d2a8",
   "metadata": {},
   "outputs": [
    {
     "name": "stderr",
     "output_type": "stream",
     "text": [
      "Clipping input data to the valid range for imshow with RGB data ([0..1] for floats or [0..255] for integers).\n"
     ]
    },
    {
     "name": "stdout",
     "output_type": "stream",
     "text": [
      "🔎\n"
     ]
    },
    {
     "ename": "NameError",
     "evalue": "name 'ROIs' is not defined",
     "output_type": "error",
     "traceback": [
      "\u001b[1;31m---------------------------------------------------------------------------\u001b[0m",
      "\u001b[1;31mNameError\u001b[0m                                 Traceback (most recent call last)",
      "\u001b[1;32m<ipython-input-11-7ce54b8e3db7>\u001b[0m in \u001b[0;36m<module>\u001b[1;34m\u001b[0m\n\u001b[0;32m     38\u001b[0m     \u001b[1;31m# Save ROI\u001b[0m\u001b[1;33m\u001b[0m\u001b[1;33m\u001b[0m\u001b[1;33m\u001b[0m\u001b[0m\n\u001b[0;32m     39\u001b[0m     \u001b[0mnew\u001b[0m \u001b[1;33m=\u001b[0m \u001b[0mpd\u001b[0m\u001b[1;33m.\u001b[0m\u001b[0mDataFrame\u001b[0m\u001b[1;33m(\u001b[0m\u001b[0mdata\u001b[0m \u001b[1;33m=\u001b[0m \u001b[1;33m{\u001b[0m\u001b[1;34m'Name'\u001b[0m\u001b[1;33m:\u001b[0m \u001b[1;33m[\u001b[0m\u001b[0mdf\u001b[0m\u001b[1;33m[\u001b[0m\u001b[1;34m'Name'\u001b[0m\u001b[1;33m]\u001b[0m\u001b[1;33m[\u001b[0m\u001b[0mimg_id\u001b[0m\u001b[1;33m]\u001b[0m\u001b[1;33m]\u001b[0m\u001b[1;33m,\u001b[0m\u001b[1;34m'Index'\u001b[0m\u001b[1;33m:\u001b[0m \u001b[1;33m[\u001b[0m\u001b[0mimg_id\u001b[0m\u001b[1;33m]\u001b[0m\u001b[1;33m,\u001b[0m \u001b[1;34m'Label'\u001b[0m\u001b[1;33m:\u001b[0m \u001b[1;33m[\u001b[0m\u001b[0mdf\u001b[0m\u001b[1;33m[\u001b[0m\u001b[1;34m'Label'\u001b[0m\u001b[1;33m]\u001b[0m\u001b[1;33m[\u001b[0m\u001b[0mimg_id\u001b[0m\u001b[1;33m]\u001b[0m\u001b[1;33m]\u001b[0m\u001b[1;33m,\u001b[0m \u001b[1;34m'ROImask'\u001b[0m\u001b[1;33m:\u001b[0m \u001b[1;33m[\u001b[0m\u001b[0mmask\u001b[0m\u001b[1;33m]\u001b[0m\u001b[1;33m}\u001b[0m\u001b[1;33m)\u001b[0m\u001b[1;33m\u001b[0m\u001b[1;33m\u001b[0m\u001b[0m\n\u001b[1;32m---> 40\u001b[1;33m     \u001b[0mROIs\u001b[0m \u001b[1;33m=\u001b[0m \u001b[0mROIs\u001b[0m\u001b[1;33m.\u001b[0m\u001b[0mappend\u001b[0m\u001b[1;33m(\u001b[0m\u001b[0mnew\u001b[0m\u001b[1;33m,\u001b[0m\u001b[0mignore_index\u001b[0m\u001b[1;33m=\u001b[0m\u001b[1;32mTrue\u001b[0m\u001b[1;33m)\u001b[0m\u001b[1;33m\u001b[0m\u001b[1;33m\u001b[0m\u001b[0m\n\u001b[0m\u001b[0;32m     41\u001b[0m \u001b[1;33m\u001b[0m\u001b[0m\n\u001b[0;32m     42\u001b[0m     \u001b[0mplt\u001b[0m\u001b[1;33m.\u001b[0m\u001b[0mshow\u001b[0m\u001b[1;33m(\u001b[0m\u001b[1;33m)\u001b[0m\u001b[1;33m\u001b[0m\u001b[1;33m\u001b[0m\u001b[0m\n",
      "\u001b[1;31mNameError\u001b[0m: name 'ROIs' is not defined"
     ]
    }
   ],
   "source": [
    "global ROI\n",
    "print('🔎')\n",
    "while 1:\n",
    "    plt.close('all')\n",
    "\n",
    "    # Original Image\n",
    "    img = df['Image'][img_id]\n",
    "    #sk  = TextureDF.loc[img_id]['Skeleton']\n",
    "    \n",
    "    mult = np.stack([1.8*df['Image'][12]/np.max(df['Image'][12]),1.8*df['Image'][11]/np.max(df['Image'][11]),1*df['Image'][10]/np.max(df['Image'][10])],axis=2)\n",
    "\n",
    "    # Remove blue channel and convert to grayscale\n",
    "    #tmp        = copy.deepcopy(img)\n",
    "    #tmp[:,:,0] = 0\n",
    "    #grey       = cv2.cvtColor(tmp,cv2.COLOR_RGB2GRAY)\n",
    "\n",
    "    #mult = np.stack([1.3*(grey / np.max(grey)),1.3*sk*(grey / np.max(grey)), np.zeros_like(sk)],axis=2)\n",
    "    #mult = np.stack([0.9*(grey / np.max(grey)),sk*(grey / np.max(grey)), 0.5 * (OriginalDF['Image'][img_id][:,:,0] / np.max(OriginalDF['Image'][img_id][:,:,0]))],axis=2)\n",
    "    #mult = np.stack([1.5*(grey / np.max(grey)),sk, 0.2 * (OriginalDF['Image'][img_id][:,:,0] / np.max(OriginalDF['Image'][img_id][:,:,0]))],axis=2)\n",
    "\n",
    "    \n",
    "    # Select ROI QT\n",
    "    %matplotlib qt\n",
    "    fig,ax = plt.subplots(figsize=(30,30))\n",
    "\n",
    "    plt.imshow(mult)\n",
    "    plt.axis('off')\n",
    "    # Plot Contours\n",
    "    #plot_nuclei_contours(CentroidsDF=Centroids,imgIndex=img_id,ax=ax)\n",
    "    # Define ROI\n",
    "    #plt.imshow(image, cmap='gray')\n",
    "    ROI = RoiPoly(color='r')\n",
    "    #ROI.display_roi()\n",
    "    #global mask,roi_coordinates\n",
    "    #roi_coordinates = ROI.get_roi_coordinates()\n",
    "    mask = ROI.get_mask(img)\n",
    "\n",
    "    # Save ROI\n",
    "    new = pd.DataFrame(data = {'Name': [df['Name'][img_id]],'Index': [img_id], 'Label': [df['Label'][img_id]], 'ROImask': [mask]})\n",
    "    ROIs = ROIs.append(new,ignore_index=True)\n",
    "\n",
    "    plt.show()\n"
   ]
  }
 ],
 "metadata": {
  "kernelspec": {
   "display_name": "ROIselection4",
   "language": "python",
   "name": "roiselection4"
  },
  "language_info": {
   "codemirror_mode": {
    "name": "ipython",
    "version": 3
   },
   "file_extension": ".py",
   "mimetype": "text/x-python",
   "name": "python",
   "nbconvert_exporter": "python",
   "pygments_lexer": "ipython3",
   "version": "3.6.15"
  }
 },
 "nbformat": 4,
 "nbformat_minor": 5
}
